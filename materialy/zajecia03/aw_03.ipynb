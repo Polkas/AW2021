{
 "cells": [
  {
   "cell_type": "markdown",
   "id": "99f95115",
   "metadata": {},
   "source": [
    "# Analiza Wielowymiarowa - Współzależność zjawisk - Zajecia 3"
   ]
  },
  {
   "cell_type": "code",
   "execution_count": null,
   "id": "ebfa6d88-62e6-4ac5-943c-b7fc1b33b20e",
   "metadata": {},
   "outputs": [],
   "source": [
    "import os\n",
    "os.getcwd() # oczekiwany .../AWXXXX/materialy/zajecia03\n",
    "# mozna uzyc os.chdir(\"path\") do zmiany"
   ]
  },
  {
   "cell_type": "code",
   "execution_count": null,
   "id": "1471c92d-72da-4d4e-8441-2b2fd76a82ba",
   "metadata": {},
   "outputs": [],
   "source": [
    "import yaml\n",
    "spec =  yaml.safe_load(open('../../spec.yaml'))"
   ]
  },
  {
   "cell_type": "code",
   "execution_count": null,
   "id": "9c588531-5fb9-427b-9209-24833e79b9bf",
   "metadata": {
    "tags": []
   },
   "outputs": [],
   "source": [
    "# STATA\n",
    "import stata_setup\n",
    "stata_setup.config(spec[\"stata_path\"], spec[\"stata_type\"])\n",
    "from pystata import stata"
   ]
  },
  {
   "cell_type": "code",
   "execution_count": null,
   "id": "bb6f0212",
   "metadata": {},
   "outputs": [],
   "source": [
    "import pandas as pd\n",
    "import scipy.stats as stats\n",
    "import numpy as np\n",
    "import scipy\n",
    "import sklearn\n",
    "import statsmodels.api as sm\n",
    "from statsmodels.formula.api import ols"
   ]
  },
  {
   "cell_type": "code",
   "execution_count": null,
   "id": "c3e5ff79",
   "metadata": {},
   "outputs": [],
   "source": [
    "%stata sysuse auto"
   ]
  },
  {
   "cell_type": "code",
   "execution_count": null,
   "id": "78956013",
   "metadata": {},
   "outputs": [],
   "source": [
    "auto = stata.pdataframe_from_data(missingval = np.NaN, valuelabel = True)"
   ]
  },
  {
   "cell_type": "markdown",
   "id": "ae9e4590",
   "metadata": {},
   "source": [
    "Analiza korelacji Test chi^2  \n",
    "chi2 - chi-kwadrat Pearsona dla hipotezy, że wiersze i kolumny w tabeli dwudzielnej są niezależne.\n",
    "V - oznacza statystykę V Cramera.\n",
    "\n",
    "**Wiecej na zajeciach nr 5**"
   ]
  },
  {
   "cell_type": "code",
   "execution_count": null,
   "id": "a6009d80",
   "metadata": {},
   "outputs": [],
   "source": [
    "# %stata help tabulate twoway"
   ]
  },
  {
   "cell_type": "markdown",
   "id": "9ae17b29-5f6e-4bf6-a68a-b2f8be3d5eae",
   "metadata": {},
   "source": [
    "Wazne aby przeanalizowac ilosc i strukture brakujacych obserwacji.\n",
    "Obserwacje brakujace moga miec istony wplyw na wyniki danej funkcji,\n",
    "czesto mamy tez mozliwosc specyfikacji jak dana funkcja ma sobie z nimi\n",
    "poradzic."
   ]
  },
  {
   "cell_type": "code",
   "execution_count": null,
   "id": "6752253d-2de8-4d12-8a40-7f6d91ae14c2",
   "metadata": {},
   "outputs": [],
   "source": [
    "auto[auto.isnull().any(axis = 1)]"
   ]
  },
  {
   "cell_type": "code",
   "execution_count": null,
   "id": "abe3f7c1-5bea-4635-8529-f498439ffce1",
   "metadata": {},
   "outputs": [],
   "source": [
    "%stata tabulate rep78 foreign, miss"
   ]
  },
  {
   "cell_type": "code",
   "execution_count": null,
   "id": "d529b512-07d2-4545-a0de-326cd7691e5f",
   "metadata": {},
   "outputs": [],
   "source": [
    "table_raw = pd.crosstab(auto.rep78.fillna('missing'), auto.foreign)\n",
    "table_full = pd.crosstab(auto.rep78.fillna('missing'), auto.foreign, margins = True)\n",
    "table_full"
   ]
  },
  {
   "cell_type": "code",
   "execution_count": null,
   "id": "e2aaf581",
   "metadata": {},
   "outputs": [],
   "source": [
    "%%stata \n",
    "tabulate rep78 foreign, missing chi2\n",
    "/* Test V-Cramera */\n",
    "tabulate rep78 foreign, missing V\n",
    "/* Wszystkie testy zaleznosci */\n",
    "tabulate rep78 foreign, all"
   ]
  },
  {
   "cell_type": "code",
   "execution_count": null,
   "id": "00d2cfee-ff02-49a1-8b39-c6790d781dde",
   "metadata": {},
   "outputs": [],
   "source": [
    "# https://stackoverflow.com/questions/33303314/confusing-behaviour-of-pandas-crosstab-function-with-dataframe-containing-nan\n",
    "# link z wyjasnieniem jak stats.chi2_contingency moze zachowywac sie kiedy analizujemy dane z wartosciami brakuajcymi\n",
    "stats.chi2_contingency(table_raw.values)"
   ]
  },
  {
   "cell_type": "code",
   "execution_count": null,
   "id": "6b7d67e1-e23d-4d5f-83ee-7aa9e3d0a86d",
   "metadata": {},
   "outputs": [],
   "source": [
    "#Chi-squared test statistic\n",
    "X2 = stats.chi2_contingency(table_raw.values, correction=False)[0]\n",
    "n = np.sum(table_raw.values) # sample size\n",
    "minDim = min(table_raw.values.shape) - 1 # minimum of rows and columns\n",
    "V = np.sqrt((X2/n) / minDim)\n",
    "print(V)"
   ]
  },
  {
   "cell_type": "markdown",
   "id": "096c78ce",
   "metadata": {},
   "source": [
    "### Korelacja"
   ]
  },
  {
   "cell_type": "code",
   "execution_count": null,
   "id": "e808cdf5",
   "metadata": {},
   "outputs": [],
   "source": [
    "%%stata\n",
    "/* Korelacja miedzy zmiennymi ciaglymi, wspolczynnik Pearsona */\n",
    "corr price mpg\n",
    "/* Oczywscie mozna tez obliczyc korelacje miedzy zmienna ciagla a dyskretna, ale jest to slabo uzasadnione */\n",
    "corr price mpg rep78 foreign"
   ]
  },
  {
   "cell_type": "code",
   "execution_count": null,
   "id": "5fcee6c6-8b51-4526-adbc-fe1cad2d6e50",
   "metadata": {},
   "outputs": [],
   "source": [
    "%%stata\n",
    "/* Dla zmiennych 0-1 bedacych reprezentacja zmiennych ukrytych o rozkladzie normalnym lepsza miara jest korelacja tetrachoryczna */\n",
    "/* Tworzymy zmienna 0-1 o wartosci 1 dla ceny powyzej 10.000$ */\n",
    "gen price_10 = (price > 10000)\n",
    "/* Korelacja terachoryczna -- dla zmiennych 0-1 */\n",
    "corr price_10 foreign\n",
    "tetrachoric price_10 foreign"
   ]
  },
  {
   "cell_type": "code",
   "execution_count": null,
   "id": "54e158b5-f9c3-4c13-a028-55f28eec9dfa",
   "metadata": {},
   "outputs": [],
   "source": [
    "auto[[\"price\", \"mpg\"]].corr()"
   ]
  },
  {
   "cell_type": "code",
   "execution_count": null,
   "id": "b96358e1-beb7-4af1-b993-9a63dd3ef464",
   "metadata": {},
   "outputs": [],
   "source": [
    "# zmienna typu string na numeryczna\n",
    "auto[\"foreign_b\"] = auto[\"foreign\"].astype(\"category\").cat.codes"
   ]
  },
  {
   "cell_type": "code",
   "execution_count": null,
   "id": "a35e8103-7bdc-47f5-803d-5faad96e326c",
   "metadata": {},
   "outputs": [],
   "source": [
    "auto[[\"price\", \"mpg\", \"rep78\", \"foreign_b\"]].corr()"
   ]
  },
  {
   "cell_type": "code",
   "execution_count": null,
   "id": "74fba936-9c4d-49b5-93e7-f99c5ad91924",
   "metadata": {},
   "outputs": [],
   "source": [
    "# cos innego tez dla binarnych - point biserial correlation\n",
    "stats.pointbiserialr(auto.price > 10000, auto.foreign_b)"
   ]
  },
  {
   "cell_type": "code",
   "execution_count": null,
   "id": "b72c57bf",
   "metadata": {},
   "outputs": [],
   "source": [
    "%%stata\n",
    "/* Wspolczynnik korelacji Kendalla */\n",
    "ktau price mpg rep78 foreign\n",
    "/* Parametr star definiuje przy jakiej wartosci p program wyswietla znak \"*\" oznaczajacy brak podstaw do odrzucenia hipotezy o braku korelacji */\n",
    "ktau price mpg rep78 foreign, star(0.05)\n",
    "/* Opcja stats(p) pozwala wyswietlic wartosc p dla kazdego wspolczynnika */\n",
    "ktau price mpg rep78 foreign, star(0.05) stats(p)"
   ]
  },
  {
   "cell_type": "code",
   "execution_count": null,
   "id": "3711cfd3-a5f4-41a3-be85-abbd74c475b8",
   "metadata": {},
   "outputs": [],
   "source": [
    "auto[[\"price\", \"mpg\", \"rep78\", \"foreign_b\"]].corr(method = \"kendall\")"
   ]
  },
  {
   "cell_type": "code",
   "execution_count": null,
   "id": "7d716273",
   "metadata": {},
   "outputs": [],
   "source": [
    "%%stata\n",
    "/* Porownanie wartosci wspolczynnikow Pearsona i Kendala (tau-b) */\n",
    "/* Dwie zmienne 0-1 */\n",
    "corr price_10 foreign\n",
    "ktau price_10 foreign\n",
    "/* Zmienna 0-1 i ciagla */\n",
    "corr price foreign\n",
    "ktau price foreign\n",
    "/* Dwie zmienne ciagle */\n",
    "corr price gear_ratio\n",
    "ktau price gear_ratio"
   ]
  },
  {
   "cell_type": "code",
   "execution_count": null,
   "id": "b1113e9a",
   "metadata": {},
   "outputs": [],
   "source": [
    "%%stata\n",
    "/* Wspolczynnik korelacji Spearmana */\n",
    "spearman price mpg rep78 foreign\n",
    "/* Parametr star definuje przy jakiej wartosci p program wyswietla znak \"*\" oznaczajacy brak podstaw do odrzucenia hipotezy o braku korelacji */\n",
    "spearman price mpg rep78 foreign, star(0.05)"
   ]
  },
  {
   "cell_type": "code",
   "execution_count": null,
   "id": "daa51560-c5ae-400d-bd1d-7d950d9cbe0f",
   "metadata": {},
   "outputs": [],
   "source": [
    "auto[[\"price\", \"mpg\", \"rep78\", \"foreign_b\"]].corr(method = \"spearman\")"
   ]
  },
  {
   "cell_type": "code",
   "execution_count": null,
   "id": "082dc7bb",
   "metadata": {},
   "outputs": [],
   "source": [
    "%%stata\n",
    "/* Porownanie wartosci wspolczynnikow Pearsona i Spearmana */\n",
    "/* Dwie zmienne 0-1 */\n",
    "corr price_10 foreign\n",
    "spearman price_10 foreign\n",
    "/* Zmienna 0-1 i ciagla */\n",
    "corr price foreign\n",
    "spearman price foreign\n",
    "/* Dwie zmienne ciagle */\n",
    "corr price gear_ratio\n",
    "spearman price gear_ratio"
   ]
  },
  {
   "cell_type": "markdown",
   "id": "9e52f10c",
   "metadata": {},
   "source": [
    "### Analiza zroznicowania"
   ]
  },
  {
   "cell_type": "code",
   "execution_count": null,
   "id": "025436ec-e6db-43e1-bc9a-cba57bf79cdc",
   "metadata": {},
   "outputs": [],
   "source": [
    "#%stata help anova"
   ]
  },
  {
   "cell_type": "code",
   "execution_count": null,
   "id": "9fbc840d",
   "metadata": {},
   "outputs": [],
   "source": [
    "%%stata\n",
    "/* Jednoczynnikowa analiza wariancji */\n",
    "anova price foreign\n",
    "/* I dla porownania regresja */\n",
    "reg price foreign"
   ]
  },
  {
   "cell_type": "code",
   "execution_count": null,
   "id": "29d20932-29e7-408b-af3e-b476e58e971f",
   "metadata": {},
   "outputs": [],
   "source": [
    "model = ols('price ~ C(foreign)', data=auto).fit()\n",
    "anova_table = sm.stats.anova_lm(model)\n",
    "anova_table"
   ]
  },
  {
   "cell_type": "code",
   "execution_count": null,
   "id": "d224df42-db76-4aa2-9500-89ae36b552b5",
   "metadata": {},
   "outputs": [],
   "source": [
    "model.summary()"
   ]
  },
  {
   "cell_type": "code",
   "execution_count": null,
   "id": "9203b968-477b-4108-a89c-890e954fc9ce",
   "metadata": {},
   "outputs": [],
   "source": [
    "%%stata\n",
    "/* Anova traktuje kazda zmienna \"objasniajaca\" jako dyskretna */\n",
    "anova price mpg\n",
    "/* opcerator c. sprawia ze zmienna traktowana jest jako zmienna o rozkladzie ciaglym */\n",
    "anova price c.mpg"
   ]
  },
  {
   "cell_type": "code",
   "execution_count": null,
   "id": "6321c444-c29d-43e4-9b2c-26191a15ad78",
   "metadata": {},
   "outputs": [],
   "source": [
    "model = ols('price ~ C(mpg)', data=auto).fit()\n",
    "anova_table = sm.stats.anova_lm(model)\n",
    "anova_table"
   ]
  },
  {
   "cell_type": "code",
   "execution_count": null,
   "id": "a557e3db-cf2f-487d-864e-0f8b22571e26",
   "metadata": {},
   "outputs": [],
   "source": [
    "model = ols('price ~ mpg', data=auto).fit()\n",
    "anova_table = sm.stats.anova_lm(model)\n",
    "anova_table"
   ]
  },
  {
   "cell_type": "markdown",
   "id": "5d32c067-7bbc-4873-8a41-d5e11ab6a3f0",
   "metadata": {},
   "source": [
    "### Wieloczynnikowa analiza wariancji"
   ]
  },
  {
   "cell_type": "code",
   "execution_count": null,
   "id": "b31e8a02-8569-4fe6-9a8f-321663c91d61",
   "metadata": {},
   "outputs": [],
   "source": [
    "# Nie jest latwo użyć ANOVA typu 1 w pakiecie statsmodels \n",
    "# https://github.com/statsmodels/statsmodels/issues/1112\n",
    "# Wydaje mi sie też ze to druga zmienna nie pierwsza jest brana pod uwage bez warunkowania"
   ]
  },
  {
   "cell_type": "code",
   "execution_count": null,
   "id": "2057903e",
   "metadata": {},
   "outputs": [],
   "source": [
    "%%stata\n",
    "anova price foreign c.mpg"
   ]
  },
  {
   "cell_type": "code",
   "execution_count": null,
   "id": "fdb6b45b-83af-49e1-a25c-5fc4ccd75f17",
   "metadata": {},
   "outputs": [],
   "source": [
    "model = ols('price ~ foreign_b + mpg', data=auto).fit()\n",
    "anova_table = sm.stats.anova_lm(model, typ = 2)\n",
    "anova_table"
   ]
  },
  {
   "cell_type": "markdown",
   "id": "a564d67a-a56c-48c0-a0ed-9624e5c2b1f0",
   "metadata": {},
   "source": [
    "W typie II, kolejność zmiennych nie ma znaczenia."
   ]
  },
  {
   "cell_type": "code",
   "execution_count": null,
   "id": "c4d6c2a0-16ad-49cc-b486-68e5b023eb1c",
   "metadata": {},
   "outputs": [],
   "source": [
    "model = ols('price ~ mpg + foreign_b', data=auto).fit()\n",
    "anova_table = sm.stats.anova_lm(model, typ = 2)\n",
    "anova_table"
   ]
  },
  {
   "cell_type": "code",
   "execution_count": null,
   "id": "ac352d4a-d6ec-4733-8c26-3453559aa33e",
   "metadata": {},
   "outputs": [],
   "source": [
    "%%stata\n",
    "/* \"#\" pozwala na proste uwzglednienie interakcji */\n",
    "anova price foreign c.mpg foreign#c.mpg"
   ]
  },
  {
   "cell_type": "code",
   "execution_count": null,
   "id": "38e80631-c4ee-46a2-8e62-23f03757368e",
   "metadata": {},
   "outputs": [],
   "source": [
    "model = ols('price ~ foreign_b + mpg + foreign_b:mpg', data=auto).fit()\n",
    "anova_table = sm.stats.anova_lm(model, typ = 1)\n",
    "anova_table"
   ]
  },
  {
   "cell_type": "code",
   "execution_count": null,
   "id": "ef90cd79",
   "metadata": {},
   "outputs": [],
   "source": [
    "%stata clear"
   ]
  },
  {
   "cell_type": "markdown",
   "id": "30afccf6",
   "metadata": {},
   "source": [
    "### Cwiczenie\n",
    "Bedziemy pracowac na danych z badania Diagnoza Spoleczna z 2005 roku  \n",
    "Prosze sciagnac dane ze strony www.ekonometria.wne.uw.edu.pl i zaladowac zbior osob do Staty  \n",
    "Prosze zapoznac sie z zawartoscia zbioru i odpowiedziec na pytania, przeprowadzajac odpowiednie testy\n",
    "\n",
    "- Czy waga jest zwiazana z plcia?  \n",
    "- Czy wzrost jest zwiazany z plcia?  \n",
    "- Czy wyksztalcenie jest powiazane z plcia? \n",
    "- Czy wsrod osob o wyzszym wyksztalceniu waga respondenta jest zwiazana z plcia? \n",
    "- Czy wsrod osob o wyzszym wyksztalceniu wzrost respondenta jest zwiazany z plcia?\n",
    "- Czy wsrod osob o wyzszym wyksztalceniu deklarowane zarobki sa zwiazane z plcia?\n"
   ]
  },
  {
   "cell_type": "code",
   "execution_count": null,
   "id": "c71db023-9c38-455b-ab05-c437a1b16b7c",
   "metadata": {},
   "outputs": [],
   "source": []
  }
 ],
 "metadata": {
  "kernelspec": {
   "display_name": "Python 3 (ipykernel)",
   "language": "python",
   "name": "python3"
  },
  "language_info": {
   "codemirror_mode": {
    "name": "ipython",
    "version": 3
   },
   "file_extension": ".py",
   "mimetype": "text/x-python",
   "name": "python",
   "nbconvert_exporter": "python",
   "pygments_lexer": "ipython3",
   "version": "3.8.11"
  }
 },
 "nbformat": 4,
 "nbformat_minor": 5
}
