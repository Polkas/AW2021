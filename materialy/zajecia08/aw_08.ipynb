{
 "cells": [
  {
   "cell_type": "markdown",
   "id": "d8927acb",
   "metadata": {},
   "source": [
    "# Analiza Wielowymiarowa - zajecia 8 - Hierarchiczna analiza skupień"
   ]
  },
  {
   "cell_type": "code",
   "execution_count": null,
   "id": "3fda3520-e5a5-41b5-8177-822456c532d0",
   "metadata": {},
   "outputs": [],
   "source": [
    "import os\n",
    "os.getcwd() # oczekiwany .../AWXXXX/materialy/zajecia08\n",
    "# mozna uzyc os.chdir(\"path\") do zmiany"
   ]
  },
  {
   "cell_type": "code",
   "execution_count": null,
   "id": "b64e6d7f-c1c6-4248-8d3e-d51600c69de1",
   "metadata": {},
   "outputs": [],
   "source": [
    "import yaml\n",
    "spec =  yaml.safe_load(open('../../spec.yaml'))"
   ]
  },
  {
   "cell_type": "code",
   "execution_count": null,
   "id": "1bf9afd9-feeb-41c4-ae20-d620098eb810",
   "metadata": {
    "tags": []
   },
   "outputs": [],
   "source": [
    "# STATA\n",
    "import stata_setup\n",
    "stata_setup.config(spec[\"stata_path\"], spec[\"stata_type\"])\n",
    "from pystata import stata"
   ]
  },
  {
   "cell_type": "code",
   "execution_count": null,
   "id": "086775bb",
   "metadata": {},
   "outputs": [],
   "source": [
    "import pandas as pd\n",
    "import scipy\n",
    "import sklearn\n",
    "import numpy as np\n",
    "import pyAesCrypt\n",
    "from matplotlib import pyplot as plt\n",
    "from scipy.cluster.hierarchy import dendrogram\n",
    "from sklearn.datasets import load_iris\n",
    "from sklearn.cluster import AgglomerativeClustering\n",
    "\n",
    "def plot_dendrogram(model, **kwargs):\n",
    "    # Create linkage matrix and then plot the dendrogram\n",
    "\n",
    "    # create the counts of samples under each node\n",
    "    counts = np.zeros(model.children_.shape[0])\n",
    "    n_samples = len(model.labels_)\n",
    "    for i, merge in enumerate(model.children_):\n",
    "        current_count = 0\n",
    "        for child_idx in merge:\n",
    "            if child_idx < n_samples:\n",
    "                current_count += 1  # leaf node\n",
    "            else:\n",
    "                current_count += counts[child_idx - n_samples]\n",
    "        counts[i] = current_count\n",
    "\n",
    "    linkage_matrix = np.column_stack(\n",
    "        [model.children_, model.distances_, counts]\n",
    "    ).astype(float)\n",
    "\n",
    "    # Plot the corresponding dendrogram\n",
    "    dendrogram(linkage_matrix, **kwargs)\n",
    "    \n",
    "# Hierarchical\n",
    "# https://scikit-learn.org/stable/modules/clustering.html#hierarchical-clustering"
   ]
  },
  {
   "cell_type": "markdown",
   "id": "a8aecafd",
   "metadata": {},
   "source": [
    "### Przykład 1."
   ]
  },
  {
   "cell_type": "markdown",
   "id": "02066827",
   "metadata": {},
   "source": [
    "Dane i przykład zostały pożyczone z podręcznika  \n",
    "Sophia Rabe-Hesketh i Brian Everitt  \n",
    "\"A Handobook of Statistical Analyses using Stata\"  \n",
    "Dane dotyczą czaszek ludzkich znalezionych w Tybecie"
   ]
  },
  {
   "cell_type": "code",
   "execution_count": null,
   "id": "1f25aa78-bfe9-4c6a-9ae0-d5102dc1ae85",
   "metadata": {},
   "outputs": [],
   "source": [
    "if not os.path.isfile(\"../../dane/tibetan.dta\"):\n",
    "    password = spec[\"password_pyaescrypt\"]\n",
    "    if password is None:\n",
    "        password = input(\"password: \")\n",
    "    pyAesCrypt.decryptFile(\"../../dane/tibetan.dta.aes\", \"../../dane/tibetan.dta\", password)"
   ]
  },
  {
   "cell_type": "code",
   "execution_count": null,
   "id": "ebfd615d",
   "metadata": {},
   "outputs": [],
   "source": [
    "%stata use ../../dane/tibetan.dta, clear  "
   ]
  },
  {
   "cell_type": "code",
   "execution_count": null,
   "id": "3c0b691c-786d-4d9b-baf0-2afa1fb971ce",
   "metadata": {},
   "outputs": [],
   "source": [
    "tibetan = pd.read_stata(\"../../dane/tibetan.dta\")"
   ]
  },
  {
   "cell_type": "code",
   "execution_count": null,
   "id": "fa7313eb",
   "metadata": {},
   "outputs": [],
   "source": [
    "%%stata\n",
    "/// opis danych\n",
    "des\n",
    "sum"
   ]
  },
  {
   "cell_type": "code",
   "execution_count": null,
   "id": "dfba72d0-aa13-44c5-be5f-ebf713eb0fc1",
   "metadata": {},
   "outputs": [],
   "source": [
    "tibetan.describe().T"
   ]
  },
  {
   "cell_type": "code",
   "execution_count": null,
   "id": "4b31db9e",
   "metadata": {},
   "outputs": [],
   "source": [
    "# %stata help cluster"
   ]
  },
  {
   "cell_type": "code",
   "execution_count": null,
   "id": "8fbeaa1d",
   "metadata": {},
   "outputs": [],
   "source": [
    "%%stata\n",
    "/// Zmienne sa mierzone w identycznych jednostkach (mm)\n",
    "/// Nie ma potrzeby standaryzacji wartosci zmiennych\n",
    "/// Metoda pojedynczego wiazania\n",
    "cluster singlelinkage length breadth height upper face, name(pojedyncze)\n",
    "cluster dendrogram"
   ]
  },
  {
   "cell_type": "code",
   "execution_count": null,
   "id": "628fb2fc-ddfc-4c26-bd15-c5a7ec3ff638",
   "metadata": {},
   "outputs": [],
   "source": [
    "model_base = AgglomerativeClustering(distance_threshold=0, n_clusters=None, linkage = \"single\")\n",
    "model = model_base.fit(tibetan[[\"length\", \"breadth\", \"height\", \"upper\", \"face\"]])\n",
    "plt.title(\"Hierarchical Clustering Dendrogram - single\")\n",
    "# Default dendogram, looks quite similar to default STATA\n",
    "plot_dendrogram(model)\n",
    "plt.xlabel(\"Number of points in node (or index of point if no parenthesis).\")\n",
    "plt.show()"
   ]
  },
  {
   "cell_type": "code",
   "execution_count": null,
   "id": "eee5da66",
   "metadata": {},
   "outputs": [],
   "source": [
    "%%stata\n",
    "/// Metoda pelnego wiazania\n",
    "cluster completelinkage length breadth height upper face, name(pelne)\n",
    "cluster dendrogram"
   ]
  },
  {
   "cell_type": "code",
   "execution_count": null,
   "id": "5caac9a9-7b1f-4a42-a3af-a7df76732c98",
   "metadata": {},
   "outputs": [],
   "source": [
    "model_base = AgglomerativeClustering(distance_threshold=0, n_clusters=None, linkage = \"complete\")\n",
    "model = model_base.fit(tibetan[[\"length\", \"breadth\", \"height\", \"upper\", \"face\"]])\n",
    "plt.title(\"Hierarchical Clustering Dendrogram - complete\")\n",
    "# Default dendogram, looks quite similar to default STATA\n",
    "plot_dendrogram(model)\n",
    "plt.xlabel(\"Number of points in node (or index of point if no parenthesis).\")\n",
    "plt.show()"
   ]
  },
  {
   "cell_type": "markdown",
   "id": "5fb10bfd",
   "metadata": {},
   "source": [
    "ten dendrogram wskazuje na hierarchiczny charakter danych\n",
    "dlugosc pionowych linii pokazuje roznice miedzy skupieniami\n",
    "im linie sa dluzsze tym obiekty bardziej roznia sie"
   ]
  },
  {
   "cell_type": "markdown",
   "id": "360346e2",
   "metadata": {},
   "source": [
    "Metoda przecietnego wiazania"
   ]
  },
  {
   "cell_type": "code",
   "execution_count": null,
   "id": "8c45ae95",
   "metadata": {},
   "outputs": [],
   "source": [
    "%%stata\n",
    "cluster averagelinkage length breadth height upper face, name(przecietne)\n",
    "cluster dendrogram"
   ]
  },
  {
   "cell_type": "code",
   "execution_count": null,
   "id": "c663a03f-1314-4a92-9127-87ae2d76b3bd",
   "metadata": {},
   "outputs": [],
   "source": [
    "model_base = AgglomerativeClustering(distance_threshold=0, n_clusters=None, linkage = \"average\")\n",
    "model = model_base.fit(tibetan[[\"length\", \"breadth\", \"height\", \"upper\", \"face\"]])\n",
    "plt.title(\"Hierarchical Clustering Dendrogram - average\")\n",
    "# Default dendogram, looks quite similar to default STATA\n",
    "plot_dendrogram(model)\n",
    "plt.xlabel(\"Number of points in node (or index of point if no parenthesis).\")\n",
    "plt.show()"
   ]
  },
  {
   "cell_type": "code",
   "execution_count": null,
   "id": "750fcc50",
   "metadata": {},
   "outputs": [],
   "source": [
    "%%stata\n",
    "/// Metoda medianowego wiazania\n",
    "cluster medianlinkage length breadth height upper face, name(medianowe)"
   ]
  },
  {
   "cell_type": "code",
   "execution_count": null,
   "id": "5b9948a4",
   "metadata": {},
   "outputs": [],
   "source": [
    "%stata cluster list"
   ]
  },
  {
   "cell_type": "code",
   "execution_count": null,
   "id": "60f07d6d",
   "metadata": {},
   "outputs": [],
   "source": [
    "%%stata\n",
    "/// Metoda Warda\n",
    "cluster wardslinkage length breadth height upper face, name(Warda)\n",
    "cluster dendrogram\n",
    "/// ten dendrogram wskazuje na hierarchiczny charakter danych\n",
    "/// prosze zwrocic uwage ze metoda Warda wykorzystuje inna miare odleglosci"
   ]
  },
  {
   "cell_type": "code",
   "execution_count": null,
   "id": "3069dd4d-6bdd-42fa-a299-4653087c2f9f",
   "metadata": {},
   "outputs": [],
   "source": [
    "model_base = AgglomerativeClustering(distance_threshold=0, n_clusters=None, linkage = \"ward\")\n",
    "model = model_base.fit(tibetan[[\"length\", \"breadth\", \"height\", \"upper\", \"face\"]])\n",
    "plt.title(\"Hierarchical Clustering Dendrogram - ward\")\n",
    "# Default dendogram, looks quite similar to default STATA\n",
    "plot_dendrogram(model)\n",
    "plt.xlabel(\"Number of points in node (or index of point if no parenthesis).\")\n",
    "plt.show()"
   ]
  },
  {
   "cell_type": "code",
   "execution_count": null,
   "id": "9025a85e-672f-40e9-8b13-22ea2705eef6",
   "metadata": {},
   "outputs": [],
   "source": [
    "%%stata\n",
    "/// Kryterium wyboru optymalnej liczby grup\n",
    "cluster stop pojedyncze, rule(duda)\n",
    "cluster stop pojedyncze, rule(calinski)\n",
    "cluster dendrogram pojedyncze \n",
    "cluster dendrogram pojedyncze, cutn(6) showcount"
   ]
  },
  {
   "cell_type": "code",
   "execution_count": null,
   "id": "54a8c3e3-0ca5-413a-9a1d-0d98c63aa792",
   "metadata": {},
   "outputs": [],
   "source": [
    "%%stata\n",
    "cluster stop pelne, rule(duda)\n",
    "cluster stop pelne, rule(calinski)\n",
    "cluster dendrogram pelne \n",
    "cluster dendrogram pelne, cutn(3) showcount"
   ]
  },
  {
   "cell_type": "code",
   "execution_count": null,
   "id": "0b52ff98-f19f-45e5-b95f-e3be4f436b33",
   "metadata": {},
   "outputs": [],
   "source": [
    "%%stata\n",
    "cluster stop przecietne, rule(duda)\n",
    "cluster stop przecietne, rule(calinski)\n",
    "\n",
    "cluster stop medianowe, rule(duda)\n",
    "cluster stop medianowe, rule(calinski)\n",
    "\n",
    "cluster stop Warda, rule(duda)\n",
    "cluster stop Warda, rule(calinski)"
   ]
  },
  {
   "cell_type": "code",
   "execution_count": null,
   "id": "baaf9da9",
   "metadata": {},
   "outputs": [],
   "source": [
    "%%stata\n",
    "/// Chcemy zobaczyc charakterystyki grup czaszek uzyskanych metoda pelnego wiazania\n",
    "/// Tworzymy identyfikatory grup\n",
    "cluster generate grupa = groups(3), name(pelne)"
   ]
  },
  {
   "cell_type": "code",
   "execution_count": null,
   "id": "691b4c74",
   "metadata": {},
   "outputs": [],
   "source": [
    "%%stata\n",
    "/// Tabela liczebnosci\n",
    "tabulate grupa"
   ]
  },
  {
   "cell_type": "markdown",
   "id": "1b4dfe2b",
   "metadata": {},
   "source": [
    "### Przykład 2"
   ]
  },
  {
   "cell_type": "markdown",
   "id": "9faa6e2d",
   "metadata": {},
   "source": [
    "W tym przykladzie wykorzystamy znane juz Panstwu dane dotyczace trzech odmian irysow\n",
    "Ich cechy to:  \n",
    "- Dlugosc platka [cm] (petal lenght)\n",
    "- Szerokosc platka [cm] (petal width)\n",
    "- Dlugosc listka kielicha [cm]\n",
    "- Szerokosc listka kielicha [cm]\n"
   ]
  },
  {
   "cell_type": "code",
   "execution_count": null,
   "id": "68483ffd",
   "metadata": {},
   "outputs": [],
   "source": [
    "%stata use ../../dane/iris.dta, clear"
   ]
  },
  {
   "cell_type": "code",
   "execution_count": null,
   "id": "6cba2610-f2bf-4d38-9514-fd4a8f7df6ad",
   "metadata": {},
   "outputs": [],
   "source": [
    "iris = pd.read_stata(\"../../dane/iris.dta\")\n",
    "iris_x = iris.iloc[:,1:]\n",
    "iris_y = iris.iloc[:,0]"
   ]
  },
  {
   "cell_type": "code",
   "execution_count": null,
   "id": "b2329e71",
   "metadata": {},
   "outputs": [],
   "source": [
    "%stata des"
   ]
  },
  {
   "cell_type": "code",
   "execution_count": null,
   "id": "213f5948-661a-4b37-9c55-d25731c40458",
   "metadata": {},
   "outputs": [],
   "source": [
    "%%stata\n",
    "/// Podstawowe statystyki opisowe\n",
    "bysort iris: su seplen sepwid petlen petwid "
   ]
  },
  {
   "cell_type": "code",
   "execution_count": null,
   "id": "bbad9a93-8abb-4ce9-95dd-7d3b709934d7",
   "metadata": {},
   "outputs": [],
   "source": [
    "iris_x.groupby(iris_y).describe().T"
   ]
  },
  {
   "cell_type": "code",
   "execution_count": null,
   "id": "2c9142cf",
   "metadata": {},
   "outputs": [],
   "source": [
    "%%stata\n",
    "cluster singlelinkage seplen sepwid petlen petwid , name(pojedyncze)"
   ]
  },
  {
   "cell_type": "code",
   "execution_count": null,
   "id": "7e498702-ea72-4c8f-996b-e1b02280f91c",
   "metadata": {},
   "outputs": [],
   "source": [
    "model_base = AgglomerativeClustering(distance_threshold=0, n_clusters=None, linkage = \"single\")\n",
    "model = model_base.fit(iris_x)"
   ]
  },
  {
   "cell_type": "code",
   "execution_count": null,
   "id": "592ad411-ba7d-46aa-8e4c-5d3f187b7d32",
   "metadata": {},
   "outputs": [],
   "source": [
    "# from scipy.cluster.hierarchy import dendrogram\n",
    "# metody obcinania wykresu, truncate_modestr 'lastp' i 'level'"
   ]
  },
  {
   "cell_type": "markdown",
   "id": "fa113310-7621-4a74-a42a-761dabfee78d",
   "metadata": {},
   "source": [
    "Dla zbioru o wiekszej liczbie obserwacji nie mozna wyswietlic pelnego dendrogramu  \n",
    "przydatne sa opcje:\n",
    "\n",
    "1. cutnumber()           wyswietla okreslona liczbe galezi  \n",
    "2. cutvalue()            wyswietla tylko rozniace sie galezie o zadana wartosc  \n",
    "\n",
    "opcja showcount pokazuje liczbe obserwacji w kazdej galezi"
   ]
  },
  {
   "cell_type": "code",
   "execution_count": null,
   "id": "9a21dd8e-1630-47e4-a093-3f42dfd2d383",
   "metadata": {},
   "outputs": [],
   "source": [
    "%stata cluster dendrogram, cutnumber(10) showcount"
   ]
  },
  {
   "cell_type": "code",
   "execution_count": null,
   "id": "bc06d5aa-d7e8-4b93-b04b-15a8629aece5",
   "metadata": {},
   "outputs": [],
   "source": [
    "%stata cluster dendrogram, cutvalue(0.8) showcount"
   ]
  },
  {
   "cell_type": "code",
   "execution_count": null,
   "id": "a18211d8-6922-4d08-84ac-fd000fc4d1d5",
   "metadata": {},
   "outputs": [],
   "source": [
    "%%stata\n",
    "/// tworzymy identyfikator 3 grup\n",
    "cluster generate gr_single = groups(3), name(pojedyncze)\n",
    "/// Czy klasyfikacja jest poprawna?\n",
    "tab iris gr_single"
   ]
  },
  {
   "cell_type": "code",
   "execution_count": null,
   "id": "f9214a3b-9000-4430-bf0a-e6961e4ec887",
   "metadata": {},
   "outputs": [],
   "source": [
    "%%stata\n",
    "/// Sprobujmy inna metoda\n",
    "cluster completelinkage seplen sepwid petlen petwid , name(pelne)\n",
    "cluster dendrogram, cutnumber(10)\n",
    "cluster dendrogram, cutvalue(0.5)"
   ]
  },
  {
   "cell_type": "code",
   "execution_count": null,
   "id": "47d41771-e7ed-4bd5-80f9-a0a60210b382",
   "metadata": {},
   "outputs": [],
   "source": [
    "%%stata\n",
    "/// tworzymy identyfikator 3 grup\n",
    "cluster generate gr_complete = groups(3), name(pelne)\n",
    "/// Czy klasyfikacja jest poprawna?\n",
    "tab iris gr_complete"
   ]
  },
  {
   "cell_type": "code",
   "execution_count": null,
   "id": "d689007b-ff2e-4aa3-9703-b5d0b5b8cc3a",
   "metadata": {},
   "outputs": [],
   "source": [
    "%%stata\n",
    "/// Sprobujmy inna metoda\n",
    "cluster wardslinkage seplen sepwid petlen petwid , name(ward)\n",
    "cluster dendrogram, cutnumber(10)\n",
    "cluster dendrogram, cutvalue(0.5)\n",
    "/// tworzymy identyfikator 3 grup\n",
    "cluster generate gr_ward = groups(3), name(ward)\n",
    "/// Czy klasyfikacja jest poprawna?\n",
    "tab iris gr_ward"
   ]
  }
 ],
 "metadata": {
  "kernelspec": {
   "display_name": "Python 3 (ipykernel)",
   "language": "python",
   "name": "python3"
  },
  "language_info": {
   "codemirror_mode": {
    "name": "ipython",
    "version": 3
   },
   "file_extension": ".py",
   "mimetype": "text/x-python",
   "name": "python",
   "nbconvert_exporter": "python",
   "pygments_lexer": "ipython3",
   "version": "3.8.11"
  }
 },
 "nbformat": 4,
 "nbformat_minor": 5
}
