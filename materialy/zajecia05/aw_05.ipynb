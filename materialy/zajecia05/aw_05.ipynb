{
 "cells": [
  {
   "cell_type": "markdown",
   "id": "18be3b52",
   "metadata": {
    "tags": []
   },
   "source": [
    "# Analiza korespondencji"
   ]
  },
  {
   "cell_type": "code",
   "execution_count": null,
   "id": "8cc97d78-ad34-4012-82c9-e8ea11a2f8fc",
   "metadata": {},
   "outputs": [],
   "source": [
    "import os\n",
    "os.getcwd() # oczekiwany .../AWXXXX/materialy/zajecia05\n",
    "# mozna uzyc os.chdir(\"path\") do zmiany"
   ]
  },
  {
   "cell_type": "code",
   "execution_count": null,
   "id": "d40bda47-be83-49f3-a0b2-0a5f0c67d602",
   "metadata": {},
   "outputs": [],
   "source": [
    "import yaml\n",
    "spec =  yaml.safe_load(open('../../spec.yaml'))"
   ]
  },
  {
   "cell_type": "code",
   "execution_count": null,
   "id": "85d8984a-47e0-4c66-abc6-eade4ff1aa7a",
   "metadata": {
    "tags": []
   },
   "outputs": [],
   "source": [
    "# STATA\n",
    "import stata_setup\n",
    "stata_setup.config(spec[\"stata_path\"], spec[\"stata_type\"])\n",
    "from pystata import stata"
   ]
  },
  {
   "cell_type": "code",
   "execution_count": null,
   "id": "1ad0b29e",
   "metadata": {},
   "outputs": [],
   "source": [
    "import pandas as pd\n",
    "import numpy as np\n",
    "import scipy\n",
    "import sklearn\n",
    "import scipy.stats as stats\n",
    "from sklearn import datasets\n",
    "\n",
    "from CAwne.CA import CA, MCA\n",
    "\n",
    "import pyAesCrypt"
   ]
  },
  {
   "cell_type": "markdown",
   "id": "d6459e96-0076-4189-b5c0-741e77af9c07",
   "metadata": {},
   "source": [
    "### Dekompozycja Macierzy"
   ]
  },
  {
   "cell_type": "code",
   "execution_count": null,
   "id": "590323ab-7fbe-4bd9-a71c-67b14c773061",
   "metadata": {},
   "outputs": [],
   "source": [
    "# https://en.wikipedia.org/wiki/Matrix_decomposition"
   ]
  },
  {
   "cell_type": "markdown",
   "id": "b535c402-e94d-419f-b7a3-451bf2c25e97",
   "metadata": {},
   "source": [
    "1. Przy rozwiązywaniu układu równań liniowych Ax=b\n",
    "2. eigendecomposition czy rozkład według wartości osobliwych macierzy A"
   ]
  },
  {
   "cell_type": "markdown",
   "id": "d1abf440-c9ee-477c-bf43-9b3a2f401421",
   "metadata": {},
   "source": [
    "### SVD"
   ]
  },
  {
   "cell_type": "markdown",
   "id": "65f6a256-4300-44e0-b9e8-73c49a722a67",
   "metadata": {},
   "source": [
    "![](https://upload.wikimedia.org/wikipedia/commons/thumb/b/bb/Singular-Value-Decomposition.svg/1920px-Singular-Value-Decomposition.svg.png)"
   ]
  },
  {
   "cell_type": "code",
   "execution_count": null,
   "id": "28f874de-7be7-4e31-8232-2930c12fd3c7",
   "metadata": {},
   "outputs": [],
   "source": [
    "iris_set = datasets.load_iris()\n",
    "# CENTRING\n",
    "iris = iris_set[\"data\"] - np.mean(iris_set[\"data\"], axis = 0)\n",
    "\n",
    "np.mean(iris, axis = 0),\\\n",
    "np.std(iris, axis = 0)"
   ]
  },
  {
   "cell_type": "code",
   "execution_count": null,
   "id": "254b04c9-67d7-4147-8e13-d8af3bf511a0",
   "metadata": {},
   "outputs": [],
   "source": [
    "u, s, vh = np.linalg.svd(iris, full_matrices = False)"
   ]
  },
  {
   "cell_type": "code",
   "execution_count": null,
   "id": "2e00785d-d405-4cdb-bdfe-2176ca2ea1a7",
   "metadata": {},
   "outputs": [],
   "source": [
    "# SVD - X = U * S * Vt\n",
    "np.allclose(iris, u @ np.diag(s) @ vh)"
   ]
  },
  {
   "cell_type": "code",
   "execution_count": null,
   "id": "7e2fb890-fd6c-40ce-a523-54d7577688ed",
   "metadata": {},
   "outputs": [],
   "source": [
    "# whiten - X_whiten = U * Vt\n",
    "np.mean(u @ vh, axis = 0),\\\n",
    "np.std(u @ vh, axis = 0)"
   ]
  },
  {
   "cell_type": "code",
   "execution_count": null,
   "id": "8692c878-97b5-4172-9543-8e0a59bc28ec",
   "metadata": {},
   "outputs": [],
   "source": [
    "# principal components - X_new = X * V = U * S * Vt * V = U * S \n",
    "np.allclose(u @ np.diag(s), iris @ vh.T)"
   ]
  },
  {
   "cell_type": "code",
   "execution_count": null,
   "id": "761572ba-c583-44c2-9589-5c87f30ae8b5",
   "metadata": {},
   "outputs": [],
   "source": [
    "pd.DataFrame(iris @ vh.T).corr()"
   ]
  },
  {
   "cell_type": "markdown",
   "id": "2bee31c5",
   "metadata": {},
   "source": [
    "ZADANIE 1\n",
    "\n",
    "Stan cywilny a kraj pochodzenia samochodu (przyklad zaczerpniety z http://v8doc.sas.com/sashtml/stat/chap24/sect26.htm)\n",
    "Wykorzystujemy zbior danych, zawierajacy informacje o pochodzeniu samochodu (origin: USA, JAPONIA, EUROPA) \n",
    "i stanie cywilnym jego wlasiciela (marital: 1 'Wolny z dziecmi' 2 'Malzenstwo z dziecmi' 3 'Wolny' 4 'Malzenstwo'"
   ]
  },
  {
   "cell_type": "markdown",
   "id": "a3c3a98f",
   "metadata": {},
   "source": [
    "Wczytanie danych"
   ]
  },
  {
   "cell_type": "code",
   "execution_count": null,
   "id": "d3233719-b88d-403d-b7f6-01f5145acb56",
   "metadata": {},
   "outputs": [],
   "source": [
    "if not os.path.isfile(\"../../dane/samochody.dta\"):\n",
    "    password = spec[\"password_pyaescrypt\"]\n",
    "    if password is None:\n",
    "        password = input(\"password: \")\n",
    "    pyAesCrypt.decryptFile(\"../../dane/samochody.dta.aes\", \"../../dane/samochody.dta\", password)"
   ]
  },
  {
   "cell_type": "code",
   "execution_count": null,
   "id": "f71e24fd",
   "metadata": {},
   "outputs": [],
   "source": [
    "%%stata\n",
    "use ../../dane/samochody.dta, clear"
   ]
  },
  {
   "cell_type": "code",
   "execution_count": null,
   "id": "02d7a883-3e1e-4ee9-a5f2-a179e94f17e2",
   "metadata": {},
   "outputs": [],
   "source": [
    "samochody = pd.read_stata(\"../../dane/samochody.dta\")"
   ]
  },
  {
   "cell_type": "code",
   "execution_count": null,
   "id": "e9fc6d16-63ac-462a-ba62-f7a679cff3db",
   "metadata": {},
   "outputs": [],
   "source": [
    "# pd.crosstab(np.random.choice([\"a\",\"b\",\"c\", \"d\"], 100, True),np.random.choice([1,2,3], 100, True))"
   ]
  },
  {
   "cell_type": "markdown",
   "id": "0e2a8682-d6dc-4d38-ae0e-d026c5ad4100",
   "metadata": {},
   "source": [
    "-------------------------"
   ]
  },
  {
   "cell_type": "markdown",
   "id": "c40bc917-1107-4228-b3e3-c2f01cc1a41b",
   "metadata": {},
   "source": [
    "### Tabela Wielodzielna - cross table"
   ]
  },
  {
   "cell_type": "markdown",
   "id": "95299312",
   "metadata": {},
   "source": [
    "lrchi2 - Likelihood Ratio Chi-Square - test ilorazu wiarygodnosci, opiera sie na sumowaniu po wszystkich komorkach wyrazenia postaci: \n",
    "Nij*ln(Nij/Eij), \n",
    "gdzie Nij - liczebnosci zaobserwowane, Eij - liczebnosci oczekiwane\n",
    "\n",
    "nie ma podstaw do odrzucenia hipotezy zerowej o niezaleznosci -- nie powinno sie stosowac analizy korespondencji!"
   ]
  },
  {
   "cell_type": "code",
   "execution_count": null,
   "id": "57445299",
   "metadata": {},
   "outputs": [],
   "source": [
    "%%stata\n",
    "//2. Czy miedzy zmiennymi wystepuje zaleznosc?\n",
    "tab origin marital, chi2 lrchi2"
   ]
  },
  {
   "cell_type": "code",
   "execution_count": null,
   "id": "6924588e-5dc7-4968-bf21-39d87c075ba5",
   "metadata": {},
   "outputs": [],
   "source": [
    "pd.crosstab(samochody.origin, samochody.marital, margins = True)"
   ]
  },
  {
   "cell_type": "code",
   "execution_count": null,
   "id": "ae8acf1a-fd3d-4e2d-9fa6-e49c3c832943",
   "metadata": {},
   "outputs": [],
   "source": [
    "cross_sam = pd.crosstab(samochody.origin, samochody.marital)\n",
    "stats.chi2_contingency(cross_sam)"
   ]
  },
  {
   "cell_type": "code",
   "execution_count": null,
   "id": "fd0115fb",
   "metadata": {},
   "outputs": [],
   "source": [
    "%%stata\n",
    "tab origin marital, V\n",
    "\n",
    "//               Cramér's V =   0.1110\n",
    "// pomiedzy zmiennymi wystepuje bardzo slaby zwiazek (wartosci wspolczynnika V-Cramera <0.30)"
   ]
  },
  {
   "cell_type": "code",
   "execution_count": null,
   "id": "d6ebb974-473a-4460-aecf-1a3deb0162c9",
   "metadata": {},
   "outputs": [],
   "source": [
    "X2 = stats.chi2_contingency(cross_sam.values, correction=False)[0]\n",
    "n = np.sum(cross_sam.values) # sample size\n",
    "minDim = np.min(cross_sam.shape) - 1 # minimum of rows and columns\n",
    "V = np.sqrt((X2/n) / minDim)\n",
    "print(V)"
   ]
  },
  {
   "cell_type": "code",
   "execution_count": null,
   "id": "3a60258c-f940-4e24-a728-06eedaedbb51",
   "metadata": {},
   "outputs": [],
   "source": [
    "pd.crosstab(samochody.marital, samochody.origin, margins = False)"
   ]
  },
  {
   "cell_type": "code",
   "execution_count": null,
   "id": "48bdde90-d507-42f0-b3d2-a342147e09c2",
   "metadata": {},
   "outputs": [],
   "source": [
    "pmat = pd.crosstab(samochody.marital, samochody.origin, margins = False)"
   ]
  },
  {
   "cell_type": "markdown",
   "id": "1616c058-2710-4a1a-8832-8d0c3660794f",
   "metadata": {},
   "source": [
    "### Analiza korespondencji\n"
   ]
  },
  {
   "cell_type": "code",
   "execution_count": null,
   "id": "4bb483ea-a81e-4497-beda-5f12b59f16fb",
   "metadata": {
    "tags": []
   },
   "outputs": [],
   "source": [
    "%%stata\n",
    "// uzywamy kiedy dane wejsciowe sa  w postaci standardowego arkusza danych - w wierszach obserwacje a w kolumnach  kolejne zmienne.*/ \n",
    "ca marital origin"
   ]
  },
  {
   "cell_type": "markdown",
   "id": "40bc706e-2a13-416a-8f39-21bc6a5b1f1d",
   "metadata": {},
   "source": [
    "\n",
    "/*1. \"Inertia and Chi-Square Decomposition\"\n",
    "Singular value - wartosci wlasne uzyskane podczas dekompozycji SVD\n",
    "Principal Inertia - wartosci wlasne podniesione do kwadratu - czesc inercji (\"wariancji\")\n",
    "zwiazana z danym wymiarem\n",
    "Chi-Square - \"Inercja\"*\"liczba obserwacji\" - czesc statystyki chi2 zwiazana z danym wymiarem\n",
    "Percent - inercja danego wymiaru podzielona przez calkowita inercje - procent inercji (\"zmiennosci\") wyjasniony przez dany wymiar\n",
    "Cumulative Percent - skumulowana poprzednia kolumna*/\n",
    "\n",
    "/*2. \"Row Coordinates\"\n",
    "Wspolrzedne odpowiadajace wierszom w przestrzeni dwuwymiarowej, czyli sa to kolumny \n",
    "macierzy U uzyskanych w wyniku dekompozycji SVD*/\n",
    "\n",
    "/*3. \"Summary Statistics for the Row Points\"\n",
    "QUALITY - miara ta przyjmuje wartosci z przedzialu [0,1] i mowi nam o jakosci \n",
    "reprezentacji poszczegolnych wierszy (kolumn) w przestrzeni o mniejszej liczbie wymiarow\n",
    "Im blizej jednosci sa jej wartosci, tym lepiej reprezentowany jest analizowany punkt\n",
    "w danej przestrzeni. U nas oczywiscie wartosc 1, bo tablica wymiaru 3x4 jest dokladnie \n",
    "reprezentowana w przestrzeni 2 wymiarowej (2 = min(3-2,4-1)).\n",
    "MASS - Masa wiersza (lub kolumny) - mozna interpretowac jako range waznosci \n",
    "poszczegolnych wieszy. \n",
    "INERTIA - wzgledna bezwladnosc punktu, okresla udzial danego punktu w ogolnej inercji \n",
    "(bezwladnosci). Np. 'Malzenstwo z dziecmi' i 'Wolny' maja najwiekszy udzial w \n",
    "bezwladnosci (czyli zmiennosci) wsrod wierszy*/\n",
    "\n",
    "/*4. \"Partial Contributions to Inertia for the Row Points\"\n",
    "Rozklad ogolnej bezwladnosci na poszczegolne wymiary (osie). Jest to udzial punktu\n",
    "w bezwladnosci wymiaru. Interpretujemy jako czesc bezwladnosci zwiazanej z konkretnym \n",
    "wymiarem, ktora jest wyjasniona przez dany punkt. Punkty z duzymi wartosciami udzialu \n",
    "w bezwladnosci w relatywnie duzym stopniu przyczynily sie do definicji danego wymiaru.\n",
    "Sposob obliczenia: (masa wiersza) * (wspolrzedna wiersza w danym wymiarze)^2 / (wartosc\n",
    "wlasna podniesiona do kwadratu dla danego wymiaru, czyli inercja danego wymiaru). \n",
    "Np. 'Malzenstwo' i I wymiar:\n",
    "0.301 *(0.072)^2 / 0.02287 = 0.01016824. \n",
    "Interpretacja: 'Malzenstwo z dziecmi' i 'Wolny' w najwiekszym stopniu przyczynily sie do\n",
    "zdefiniowania pierwszego wymiaru*/\n",
    "\n",
    "/*5. Squared Cosines for the Row Points\n",
    "Udzial wymiaru w bezwladnosci punktu. Definiujemy jako:\n",
    "(wspolrzedna punktu w danym wymiarze)^2 / (kwadrat odleglosci punktu od srodka ukladu wspolrzednych\n",
    "czyli przecietnego profila wierszowego lub kolumnowego). Jest to kwadrat cosinusa\n",
    "kata miedzy odcinkiem laczacym srodek ukladu wspolrzednych z rozwazanym punktem a dana \n",
    "osia ukladu wspolrzednych. Obliczenia dla 'Malzenstwo' i I wymiaru: (-0.0278)^2 / ((-0.0278)^2 + (0.0134)^2) = 0.81\n",
    "Interpretacja: I wymiar dobrze opisuje punkty reprezentujace 'Malzenstwo z dziecmi'\n",
    "i 'Wolny'*/\n",
    "//II wymiar dobrze opisuje punkt 'Wolny z dziecmi'\n",
    "\n",
    "//W przypadku kolumn:\n",
    "// I wymiar dobrze opisuje punkty 'USA' i 'Japonia'\n",
    "// II wymiar dobrze opisuje  punkty 'USA' i 'Europa'\n"
   ]
  },
  {
   "cell_type": "code",
   "execution_count": null,
   "id": "c9df1ebc",
   "metadata": {},
   "outputs": [],
   "source": [
    "%%stata\n",
    "/*Przechodzimy do interpretacji wykresu 'Status rodzinny vs. pochodzenie samochodu'*/\n",
    "cabiplot , norow yline(0) xline(0)\n",
    "cabiplot , nocolumn yline(0) xline(0)\n",
    "cabiplot, yline(0) xline(0)"
   ]
  },
  {
   "cell_type": "markdown",
   "id": "dcf141c9-3468-45bd-9af2-337c69bcf940",
   "metadata": {},
   "source": [
    "/*Interpretacja: Zaczynamy od osobnej interpretacji punktow odpowiadajacych wierszom i kolumnom.\n",
    "Wiersze:\n",
    "EUROPA - wsporzedna dla wymiaru I bliska 0 - praktycznie brak wkladu w inercje I wymiaru; w ogole wklad w calkowita inercje jest nie wielki (bo wazniejszy jest I pierwszy wymiar),\n",
    "duzy udzial w inercji II wymiaru (bo wspolrzedna dla drugiego wymiaru ma duza wartosc w porownaniu z pozostalymi punktami odpowiadajacymi wierszom). Polozenie tego punktu \n",
    "jest calkowicie determinowane przez II wymiar (potwierdza to kwadrat cosinusa). \n",
    "JAPONIA i USA - leza wzdluz I osi, maja duzy wklad do statystyki chi2 i do inercji I  wymiaru. Os pozioma rozroznia samochody Japonskie od Amerykanskich.\n",
    "Kolumny:\n",
    "'Malzenstwo' i 'Wolny z dziecmi' maja pierwsza wspolrzedna praktycznie rowna 0. Os pozioma rozroznia 'Wolnych' od 'Malzenstwo z dziecmi'\n",
    "Interpetacja I osi wskazuje zatem na zaleznosc miedzy 'malzenstwo z dziecmi' a posiadanie samochodu produkcji amarykanskiej oraz byciu 'Wolnym' i posiadanie samochodu produkcji \n",
    "japonskiej. \n",
    "\n",
    "Podumowujac, analiza korespondencji wskazuje, iz osoby w zwiazku malzenskim posiadajace dzieci czesciej niz przy zalozeniu niezaleznosci miedzy wierszami \n",
    "a kolumnami tablicy kontyngencji kupuja samochody produkcji amerykanskiej, natomiast osoby stanu wolnego, bez dzieci czesciej niz przy zalozeniu niezaleznosci\n",
    "miedzy wierszami a kolumnami tablicy kontyngencji uzywaja samochodow marki japonskiej.*/\n"
   ]
  },
  {
   "cell_type": "markdown",
   "id": "2a58ea3a",
   "metadata": {},
   "source": [
    "/*Interpretacja: Zaczynamy od osobnej interpretacji punktow odpowiadajacych wierszom i kolumnom.\n",
    "Wiersze:\n",
    "EUROPA - wsporzedna dla wymiaru I bliska 0 - praktycznie brak wkladu w inercje I wymiaru; w ogole wklad w calkowita inercje jest nie wielki (bo wazniejszy jest I pierwszy wymiar),\n",
    "duzy udzial w inercji II wymiaru (bo wspolrzedna dla drugiego wymiaru ma duza wartosc w porownaniu z pozostalymi punktami odpowiadajacymi wierszom). Polozenie tego punktu \n",
    "jest calkowicie determinowane przez II wymiar (potwierdza to kwadrat cosinusa). \n",
    "JAPONIA i USA - leza wzdluz I osi, maja duzy wklad do statystyki chi2 i do inercji I  wymiaru. Os pozioma rozroznia samochody Japonskie od Amerykanskich.\n",
    "Kolumny:\n",
    "'Malzenstwo' i 'Wolny z dziecmi' maja pierwsza wspolrzedna praktycznie rowna 0. Os pozioma rozroznia 'Wolnych' od 'Malzenstwo z dziecmi'\n",
    "Interpetacja I osi wskazuje zatem na zaleznosc miedzy 'malzenstwo z dziecmi' a posiadanie samochodu produkcji amarykanskiej oraz byciu 'Wolnym' i posiadanie samochodu produkcji \n",
    "japonskiej. \n",
    "\n",
    "Podumowujac, analiza korespondencji wskazuje, iz osoby w zwiazku malzenskim posiadajace dzieci czesciej niz przy zalozeniu niezaleznosci miedzy wierszami \n",
    "a kolumnami tablicy kontyngencji kupuja samochody produkcji amerykanskiej, natomiast osoby stanu wolnego, bez dzieci czesciej niz przy zalozeniu niezaleznosci\n",
    "miedzy wierszami a kolumnami tablicy kontyngencji uzywaja samochodow marki japonskiej.*/"
   ]
  },
  {
   "cell_type": "markdown",
   "id": "8fdf5534-7e1f-48f8-8937-9873f7fadfd7",
   "metadata": {},
   "source": [
    "------------------"
   ]
  },
  {
   "cell_type": "code",
   "execution_count": null,
   "id": "c6a8e07e-8437-44d6-8e11-218c5ae09fff",
   "metadata": {},
   "outputs": [],
   "source": [
    "cc = CA(pmat)"
   ]
  },
  {
   "cell_type": "code",
   "execution_count": null,
   "id": "2e7a72b5-0c90-4c21-9822-c8f8aa1c1c40",
   "metadata": {},
   "outputs": [],
   "source": [
    "cc.inertia"
   ]
  },
  {
   "cell_type": "code",
   "execution_count": null,
   "id": "ac2f0335-7106-4234-b075-553ce3761110",
   "metadata": {},
   "outputs": [],
   "source": [
    "np.round(cc.eigenvals, 3)"
   ]
  },
  {
   "cell_type": "code",
   "execution_count": null,
   "id": "d9fa29d3-aec3-4586-a675-6f4f9a1b8b35",
   "metadata": {},
   "outputs": [],
   "source": [
    "# F principal coordinates of rows\n",
    "# G principal coordinates of cols\n",
    "cc.F, cc.G"
   ]
  },
  {
   "cell_type": "code",
   "execution_count": null,
   "id": "6776e285-46b6-496f-9b05-6dab92fbf275",
   "metadata": {},
   "outputs": [],
   "source": [
    "from CAwne.CA import CA\n",
    "cc.scree_diagram()"
   ]
  },
  {
   "cell_type": "code",
   "execution_count": null,
   "id": "87d90cd2-466d-48f5-bf10-b9332447b7ae",
   "metadata": {},
   "outputs": [],
   "source": [
    "cc.plot()"
   ]
  },
  {
   "cell_type": "markdown",
   "id": "9bf6ec00-617f-48b8-a4c7-a028af240af6",
   "metadata": {},
   "source": [
    "### ZADANIE 2"
   ]
  },
  {
   "cell_type": "markdown",
   "id": "05916010-316f-4afb-8c84-1f3b392e08cf",
   "metadata": {},
   "source": [
    "Kontrowersje -- czy wartosci Polakow zmienily sie pomiedzy 1989 a 2012 rokiem?\n",
    "\n",
    "Baza do zadania zostala stworzona na podstawie badania World Values Survey (http://www.worldvaluessurvey.org/wvs.jsp [dostep 20 marca 2015]),\n",
    "a dokladnie jego 4 fal, w ktorych brala udzial Polska:  \n",
    "fali 2 : 1989 (938 osob)  \n",
    "fali 3 : 1997 (1153 osoby)  \n",
    "fali 5 : 2005 (1000 osob)  \n",
    "fali 6 : 2012 (966)  \n",
    " \n",
    "W kazdym badaniu respondentom zadano pytania, jak bardzo akceptowalne sa zjawiska z okreslonej puli.\n",
    "Respondenci odpowiadali wybierajac jedna z kilku mozliwych odpowiedzi, porzadkujacych ich stopien akceptacji danego zjawiska\n",
    "Dla potrzeb tego zadania policzono osoby, ktore na pytania udzielily odpowiedzi \"calkowicie nieakceptowalne\". Nastepnie przeliczono\n",
    "jaki procent wszystkich odpowiedzi stanowi tak zdecydowanie okreslony brak akceptacji.\n",
    "\n",
    "Uzyte zmienne:\n",
    "kontrowersja: zjawisko, ktore wywoluje kontrowersje, gdzie\t1 -- pobieranie niezasluzonych swiadczen od rzadu; 2 -- oszustwo podatkowe;\n",
    "3 -- kupno skradzionych rzeczy; 4 -- lapowkarstwo; 5 -- homoseksualnosc; 6 -- prostytucja; 7 -- aborcja; 8 -- rozwod; 9 -- eutanazja; 10 -- samobojstwo\n",
    "\n",
    "rok -- rok, w ktorym przeprowadzono wywiad, gdzie 1 -- 1989; 2 -- 1997; 3 -- 2005; 4 --2012;\n",
    "\n",
    "wartosc -- procent respondentow, ktorzy na pytanie o okreslone zjawisko odpowiedzieli, ze jest \"calkowicie nieakceptowalne\"\n",
    "\n",
    "0. Uzycie bazy danych"
   ]
  },
  {
   "cell_type": "code",
   "execution_count": null,
   "id": "4e5cf559-6d3e-46f7-b5e5-5e1fb1452d5b",
   "metadata": {},
   "outputs": [],
   "source": [
    "%%stata\n",
    "use ../../dane/kontrowersje.dta, clear"
   ]
  },
  {
   "cell_type": "code",
   "execution_count": null,
   "id": "f6b39a50-2ef3-4a62-9dc5-f77aa802523c",
   "metadata": {},
   "outputs": [],
   "source": [
    "kontrowersje = stata.pdataframe_from_data(valuelabel = True)"
   ]
  },
  {
   "cell_type": "code",
   "execution_count": null,
   "id": "5a4b6743-b24e-4ac6-97a0-de8146ccb17e",
   "metadata": {},
   "outputs": [],
   "source": [
    "kontrowersje[\"kontrowersja\"] = kontrowersje.kontrowersja.map({1:\"niezasluzone swiadczenia\", 2: \"oszustwo podatkowe\", 3: \"kupno skradzionych rzeczy\", 4: \"lapowkarstwo\", 5: \"homoseksualnosc\", 6: \"prostytucja\", 7: \"aborcja\", 8: \"rozwod\", 9: \"eutanazja\", 10: \"samobojstwo\"}).astype(\"category\")\n",
    "kontrowersje[\"rok\"] = kontrowersje.rok.map({1: \"1989\", 2: \"1997\", 3: \"2005\", 4:\"2012\"}).astype(\"category\")"
   ]
  },
  {
   "cell_type": "code",
   "execution_count": null,
   "id": "83647566",
   "metadata": {},
   "outputs": [],
   "source": [
    "%%stata\n",
    "//1. Nadanie etykiet wartosciom zmiennych \"kontrowersja\" i \"rok\"\n",
    "label define pytania 1 \"niezasluzone swiadczenia\" 2 \"oszustwo podatkowe\" 3 \"kupno skradzionych rzeczy\" 4 \"lapowkarstwo\" 5 \"homoseksualnosc\" 6 \"prostytucja\" 7 \"aborcja\" 8 \"rozwod\" 9 \"eutanazja\" 10 \"samobojstwo\"\n",
    "label values kontrowersja pytania\n",
    "\n",
    "label define rok 1 \"1989\" 2 \"1997\" 3 \"2005\" 4 \"2012\"\n",
    "label values rok rok"
   ]
  },
  {
   "cell_type": "code",
   "execution_count": null,
   "id": "2d7cd794-3555-42f6-867f-d3ec5f83842d",
   "metadata": {},
   "outputs": [],
   "source": [
    "# %stata help weight"
   ]
  },
  {
   "cell_type": "code",
   "execution_count": null,
   "id": "448b5a35-aea6-4241-bf76-cbce9e7affa2",
   "metadata": {},
   "outputs": [],
   "source": [
    "%%stata\n",
    "//2. Czy miedzy zmiennymi wystepuje zaleznosc?\n",
    "tabulate rok kontrowersja [fw=wartosc], chi2 lrchi2 \n",
    "tabulate rok kontrowersja [fw=wartosc], V"
   ]
  },
  {
   "cell_type": "code",
   "execution_count": null,
   "id": "39acf714-3754-4ec8-a3ad-a22e325ae8fd",
   "metadata": {},
   "outputs": [],
   "source": [
    "kontrowersje.pivot_table(values=\"wartosc\", index=\"rok\", columns=\"kontrowersja\")"
   ]
  },
  {
   "cell_type": "code",
   "execution_count": null,
   "id": "53342e28-becf-4fa7-9e05-7ad9133811df",
   "metadata": {},
   "outputs": [],
   "source": [
    "%%stata\n",
    "//3. Analiza korespondencji\n",
    "ca kontrowersja rok [fw=wartosc]"
   ]
  },
  {
   "cell_type": "code",
   "execution_count": null,
   "id": "290a40ec-b708-41fc-a3b2-6627e5266953",
   "metadata": {},
   "outputs": [],
   "source": [
    "%%stata\n",
    "//4. Prezentacja graficzna wynikow\n",
    "cabiplot , norow yline(0) xline(0)\n",
    "cabiplot , nocolumn yline(0) xline(0)\n",
    "cabiplot, yline(0) xline(0)"
   ]
  },
  {
   "cell_type": "markdown",
   "id": "a3f1192e-c580-42f7-b8dc-c510d53ea118",
   "metadata": {},
   "source": [
    "PYTHON"
   ]
  },
  {
   "cell_type": "code",
   "execution_count": null,
   "id": "38637000-3709-4c23-9c29-09fd0ab51928",
   "metadata": {},
   "outputs": [],
   "source": [
    "ca = CA(kontrowersje.pivot_table(values=\"wartosc\", index=\"rok\", columns=\"kontrowersja\"))"
   ]
  },
  {
   "cell_type": "code",
   "execution_count": null,
   "id": "f80601e9-d1c5-4625-8460-a614f764f8c9",
   "metadata": {},
   "outputs": [],
   "source": [
    "ca.inertia"
   ]
  },
  {
   "cell_type": "code",
   "execution_count": null,
   "id": "ad21aec4-6150-4cb4-9f3a-332fdca4b93f",
   "metadata": {},
   "outputs": [],
   "source": [
    "np.round(ca.eigenvals, 3)"
   ]
  },
  {
   "cell_type": "code",
   "execution_count": null,
   "id": "c6865d98-8769-4c73-8d09-9ea50fe25b97",
   "metadata": {},
   "outputs": [],
   "source": [
    "ca.plot()"
   ]
  },
  {
   "cell_type": "markdown",
   "id": "8504b4b2-6a45-453e-b0f5-fe26538557a4",
   "metadata": {},
   "source": [
    "### MCA - Wielokrotna Analiza Korespondencji"
   ]
  },
  {
   "cell_type": "code",
   "execution_count": null,
   "id": "f9e5f200-2353-4397-860c-081e66cfdd59",
   "metadata": {},
   "outputs": [],
   "source": [
    "iris2 = pd.DataFrame({\"sepal_length\": pd.cut(iris[:, 0], 3, labels = [\"small\", \"medium\", \"high\"]),\n",
    "                      \"sepal_width\": pd.cut(iris[:, 1], 3, labels = [\"small\", \"medium\", \"high\"]),\n",
    "                      \"name\": pd.Series(iris_set[\"target\"]).astype('category').cat.rename_categories(iris_set[\"target_names\"].tolist())\n",
    "                     })"
   ]
  },
  {
   "cell_type": "code",
   "execution_count": null,
   "id": "1e6415f6-9e8d-43c4-a30b-84735ffa8f75",
   "metadata": {},
   "outputs": [],
   "source": [
    "%stata clear"
   ]
  },
  {
   "cell_type": "code",
   "execution_count": null,
   "id": "8decb625-2fc2-4be3-8306-5ef55815967e",
   "metadata": {},
   "outputs": [],
   "source": [
    "stata.pdataframe_to_data(iris2)"
   ]
  },
  {
   "cell_type": "code",
   "execution_count": null,
   "id": "bffc9213-8203-423a-8e50-18f0ab2e05e9",
   "metadata": {},
   "outputs": [],
   "source": [
    "%%stata\n",
    "encode sepal_length, gen(sepal_length_c)\n",
    "encode sepal_width, gen(sepal_width_c)\n",
    "encode name, gen(name_c)"
   ]
  },
  {
   "cell_type": "code",
   "execution_count": null,
   "id": "7e8cb4af-488d-43c4-a802-f0f17c9ac0b3",
   "metadata": {},
   "outputs": [],
   "source": [
    "%%stata\n",
    "mca sepal_length_c sepal_width_c name_c"
   ]
  },
  {
   "cell_type": "code",
   "execution_count": null,
   "id": "9947f499-306c-4c8c-8005-6a542fddd160",
   "metadata": {},
   "outputs": [],
   "source": [
    "%%stata\n",
    "mcaplot, overlay"
   ]
  },
  {
   "cell_type": "code",
   "execution_count": null,
   "id": "df1b4b0b-7dc2-4c12-8bf2-7dfb0afd721f",
   "metadata": {},
   "outputs": [],
   "source": [
    "ca2 = MCA(pd.get_dummies(iris2))"
   ]
  },
  {
   "cell_type": "code",
   "execution_count": null,
   "id": "6f83e95d-7794-48ae-b611-1018ccf893fe",
   "metadata": {},
   "outputs": [],
   "source": [
    "np.round(ca2.eigenvals, 3)"
   ]
  },
  {
   "cell_type": "code",
   "execution_count": null,
   "id": "9bc93b31-891a-4f6d-98ad-eaf7c5698dec",
   "metadata": {},
   "outputs": [],
   "source": [
    "ca2.plot()"
   ]
  },
  {
   "cell_type": "markdown",
   "id": "b91a5367",
   "metadata": {},
   "source": [
    "### Zadanie 3"
   ]
  },
  {
   "cell_type": "markdown",
   "id": "0be85ca0",
   "metadata": {},
   "source": [
    "Wypadki przy pracy  -- czy istnieje zwiazek pomiedzy powodem wypadku a branza?\n",
    "\n",
    "Baza do zadania zostala stworzona na podstawie danych udostepnionych przez GUS z ankiety Z11\n",
    "http://stat.gov.pl/obszary-tematyczne/rynek-pracy/warunki-pracy-wypadki-przy-pracy/wypadki-przy-pracy-w-2013-r-,4,6.html [dostep dnia 15 marca 2015]\n",
    "Wybrano 11 branz (branza) : 1 \"rolnictwo\" 2 \"gornictwo\" 3 \"przetworstwo\" 4 \"profesjonalisci\" 5 \"budownictwo\" 6 \"handel\" 7 \"gastronomia\" 8 \"transport\" 9 \"finanse i ubezpieczenia\" 10 \"edukacja\" 11 \"zdrowie\"\n",
    "oraz 9 powodow (powod): 1 \"niewlasciwy stan czynnika materialnego\" 2 \"niewlasciwa organizacja pracy\" 3 \"niewlasciwa organizacja stanowiska pracy\" 4 \"niewlasciwe poslugiwanie sie czynnikiem materialnym\" 5 \"brak sprzetu ochronnego\" 6 \"samowola pracownika\" 7 \"zly stan psychofizyczny pracownika\" 8 \"nieprawidlowe zachowanie pracownika\" 9 \"inne\""
   ]
  },
  {
   "cell_type": "code",
   "execution_count": null,
   "id": "51076ac6",
   "metadata": {},
   "outputs": [],
   "source": [
    "%%stata\n",
    "import delimited \"../../dane/wypadki.csv\", delimiter(\";\") clear"
   ]
  },
  {
   "cell_type": "code",
   "execution_count": null,
   "id": "dd8d2b01",
   "metadata": {},
   "outputs": [],
   "source": [
    "%stata rename (v1 v2 v3) (branza powod liczba)"
   ]
  },
  {
   "cell_type": "code",
   "execution_count": null,
   "id": "18c106be-568c-435d-84a3-bff58febd8eb",
   "metadata": {},
   "outputs": [],
   "source": [
    "wypadki = pd.read_csv(\"../../dane/wypadki.csv\", sep = \";\", header=0)\n",
    "wypadki.columns = [\"branza\", \"powod\", \"liczba\"]"
   ]
  },
  {
   "cell_type": "markdown",
   "id": "729d1f91",
   "metadata": {},
   "source": [
    "- 1. Nadaj etykiety wartosciom zmiennych \"branza\" i \"powod\"\n",
    "- 2. Czy pomiedzy zmiennymi wystepuje zaleznosc? Zinterpretuj wyniki testu chi-kwadrat i wspolczynnik V-Cramera\n",
    "- 3. Przeprowadz analize korespondencji. Jaki procent inercji tlumaczy rozwiazanie dwuwymiarowe?\n",
    "- 4. Zinterpretuj uzyskane wyniki prezentacji graficznej."
   ]
  }
 ],
 "metadata": {
  "kernelspec": {
   "display_name": "Python 3 (ipykernel)",
   "language": "python",
   "name": "python3"
  },
  "language_info": {
   "codemirror_mode": {
    "name": "ipython",
    "version": 3
   },
   "file_extension": ".py",
   "mimetype": "text/x-python",
   "name": "python",
   "nbconvert_exporter": "python",
   "pygments_lexer": "ipython3",
   "version": "3.8.11"
  }
 },
 "nbformat": 4,
 "nbformat_minor": 5
}
