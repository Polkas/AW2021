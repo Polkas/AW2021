{
 "cells": [
  {
   "cell_type": "markdown",
   "id": "fab4f3b8",
   "metadata": {},
   "source": [
    "# Analiza Wielowymiarowa - Zajecia 4 - Analiza kanoniczna"
   ]
  },
  {
   "cell_type": "code",
   "execution_count": null,
   "id": "1eea1b70-03e9-4406-afb9-14053165a78a",
   "metadata": {},
   "outputs": [],
   "source": [
    "import os\n",
    "os.getcwd() # oczekiwany .../AWXXXX/materialy/zajecia04\n",
    "# mozna uzyc os.chdir(\"path\") do zmiany"
   ]
  },
  {
   "cell_type": "code",
   "execution_count": null,
   "id": "52d7809a-d388-40d1-8cbf-2d7e7aed33ba",
   "metadata": {},
   "outputs": [],
   "source": [
    "import yaml\n",
    "spec =  yaml.safe_load(open('../../spec.yaml'))"
   ]
  },
  {
   "cell_type": "code",
   "execution_count": null,
   "id": "f38b7eba-27fb-46f4-abc6-90973df25fa1",
   "metadata": {
    "tags": []
   },
   "outputs": [],
   "source": [
    "# STATA\n",
    "import stata_setup\n",
    "stata_setup.config(spec[\"stata_path\"], spec[\"stata_type\"])\n",
    "from pystata import stata"
   ]
  },
  {
   "cell_type": "code",
   "execution_count": null,
   "id": "72f3b00c",
   "metadata": {},
   "outputs": [],
   "source": [
    "import pandas as pd\n",
    "import scipy\n",
    "import numpy as np\n",
    "from statsmodels.multivariate.cancorr import CanCorr\n",
    "from sklearn.cross_decomposition import CCA\n",
    "import sklearn\n",
    "from sklearn.model_selection import GridSearchCV\n",
    "from sklearn.model_selection import train_test_split\n",
    "from sklearn.preprocessing import StandardScaler\n",
    "import matplotlib.pyplot as plt\n",
    "\n",
    "import pyAesCrypt"
   ]
  },
  {
   "cell_type": "code",
   "execution_count": null,
   "id": "2534417e-3801-46c1-a84f-1cdbf6a8475c",
   "metadata": {},
   "outputs": [],
   "source": [
    "def corr_mat(X1, X2) -> np.matrix:\n",
    "    \"\"\"Correlation matrix between two different matries.\n",
    "    Arguments:\n",
    "    X1 -- array_like first matrix \n",
    "    X2 -- array_like second matrix\n",
    "    Returns:\n",
    "        Correlation matrix.\n",
    "    \"\"\"\n",
    "    assert X1.shape[0] == X2.shape[0], \"X1 and X2 should have the same number of observations.\"\n",
    "    \n",
    "    col_nams = X2.columns if hasattr(X2, \"columns\") else list(range(X2.shape[1]))\n",
    "    index_nams = X1.columns if hasattr(X1, \"columns\") else list(range(X1.shape[1]))\n",
    "\n",
    "    X1 = np.asmatrix(X1)\n",
    "    X2 = np.asmatrix(X2)\n",
    "    numerator = np.matmul(X1.T, X2) / X2.shape[0] - np.outer(np.mean(X1, axis = 0), np.mean(X2, axis = 0))\n",
    "    denominator = np.outer(np.std(X1, axis = 0), np.std(X2, axis = 0))\n",
    "    res = pd.DataFrame(numerator / denominator)\n",
    "    res.columns = col_nams\n",
    "    res.index = index_nams\n",
    "    return res\n",
    "\n",
    "from typing import List\n",
    "\n",
    "def REDUNT(matX, matY, can_corrs, corr_Y_xscores, corr_X_yscores) -> List[pd.DataFrame]:\n",
    "    \"\"\"Redundancy for CCA analysis.\n",
    "    Arguments:\n",
    "    matX -- array_like egzo variables\n",
    "    matY -- array_like engo variables\n",
    "    can_corrs -- array_like 1D canonical correlations\n",
    "    corr_Y_xscores -- array_like correlation between endo variables and xscores\n",
    "    corr_X_yscores -- array_like correlation between egzo variables and yscores\n",
    "    Returns:\n",
    "        Redunadancy - Average percent of variance in a set of variables explained by their own canonical variate.\n",
    "    \"\"\"\n",
    "    assert matX.shape[0] == matY.shape[0], \"matX and matY should have the same number of observations.\"\n",
    "    assert corr_Y_xscores.shape[1] == corr_X_yscores.shape[1], \"corr_Y_xscores and corr_X_yscores should have the same number of columns.\"\n",
    "    assert len(can_corrs) >= corr_Y_xscores.shape[1], \"can_corrs should have number of elements at least as number of columns in corr_Y_xscores.\"\n",
    "    assert len(can_corrs) >= corr_X_yscores.shape[1], \"can_corrs should have number of elements at least as number of columns in corr_X_xscores.\"\n",
    "\n",
    "    matX = np.asmatrix(matX)\n",
    "    matY = np.asmatrix(matY)\n",
    "    can_corrs = np.array(can_corrs)\n",
    "    corr_Y_xscores = np.asmatrix(corr_Y_xscores)\n",
    "    corr_X_yscores = np.asmatrix(corr_X_yscores)\n",
    "\n",
    "    eigenmatY = can_corrs\n",
    "    vector1 = np.power(eigenmatY, 2)\n",
    "    names1 = [\"own variance\", \"opposite variance\"]\n",
    "    names2 = [\"y\", \"x\"]\n",
    "    matim = list()\n",
    "    for i in range(corr_Y_xscores.shape[1]):\n",
    "        a = np.sum(np.power(corr_Y_xscores[:, i], 2)) / matY.shape[1]\n",
    "        b = a / vector1[i]\n",
    "        c = np.sum(np.power(corr_X_yscores[:, i], 2)) / matX.shape[1]\n",
    "        d = c / vector1[i]\n",
    "        mm = pd.DataFrame(np.matrix([[b, a], [d, c]]))\n",
    "        mm.index = names2\n",
    "        mm.columns = names1\n",
    "        matim.append(mm)\n",
    "    return(matim)"
   ]
  },
  {
   "cell_type": "code",
   "execution_count": null,
   "id": "3205eb66-a544-4e25-8a3f-fa7be9ead9e8",
   "metadata": {},
   "outputs": [],
   "source": [
    "if not os.path.isfile(\"../../dane/zadowolenie.dta\"):\n",
    "    password = spec[\"password_pyaescrypt\"]\n",
    "    if password is None:\n",
    "        password = input(\"password: \")\n",
    "    pyAesCrypt.decryptFile(\"../../dane/zadowolenie.dta.aes\", \"../../dane/zadowolenie.dta\", password)"
   ]
  },
  {
   "cell_type": "code",
   "execution_count": null,
   "id": "3dbf88b1",
   "metadata": {},
   "outputs": [],
   "source": [
    "%stata use ../../dane/zadowolenie.dta, clear"
   ]
  },
  {
   "cell_type": "code",
   "execution_count": null,
   "id": "91d04944-2d6f-470c-a7da-f1fe2c627818",
   "metadata": {},
   "outputs": [],
   "source": [
    "zadowolenie = pd.read_stata(\"../../dane/zadowolenie.dta\")"
   ]
  },
  {
   "cell_type": "markdown",
   "id": "a16eaceb-957c-48a4-906d-04c8b4a552cd",
   "metadata": {},
   "source": [
    "Ziarno losowania"
   ]
  },
  {
   "cell_type": "code",
   "execution_count": null,
   "id": "1bc47dc8-633a-4571-a809-c367a13f809d",
   "metadata": {},
   "outputs": [],
   "source": [
    "np.random.seed(0)"
   ]
  },
  {
   "cell_type": "markdown",
   "id": "9523e3a6-7fd0-4995-a1ea-eef575c386ba",
   "metadata": {},
   "source": [
    "### Wielkość Efektu, p-value i liczebność próby"
   ]
  },
  {
   "cell_type": "code",
   "execution_count": 1,
   "id": "7f0f4faa-e41a-4ff6-a06c-3f3c380a6a72",
   "metadata": {},
   "outputs": [],
   "source": [
    "# AMERICAN STATISTICAL ASSOCIATION RELEASES STATEMENT ON STATISTICAL SIGNIFICANCE AND P-VALUES\n",
    "# https://www.amstat.org/asa/files/pdfs/p-valuestatement.pdf"
   ]
  },
  {
   "cell_type": "code",
   "execution_count": null,
   "id": "8b5dbb4a-4aa0-48e9-a2e0-7a68e2ccb1ad",
   "metadata": {},
   "outputs": [],
   "source": [
    "# Przypisy na https://pl.wikipedia.org/wiki/Wielko%C5%9B%C4%87_efektu\n",
    "corr = 0.1       # correlation\n",
    "covs = [[1 , corr], \n",
    "        [corr,  1]] \n",
    "means = [0, 0]"
   ]
  },
  {
   "cell_type": "code",
   "execution_count": null,
   "id": "0d3c424c-39bc-4ef8-9229-29dbc5ccfc39",
   "metadata": {},
   "outputs": [],
   "source": [
    "m = np.random.multivariate_normal(means, covs, 100).T\n",
    "scipy.stats.pearsonr(m[0], m[1])"
   ]
  },
  {
   "cell_type": "code",
   "execution_count": null,
   "id": "1e02a608-5321-44e7-b9fb-ae86793ea874",
   "metadata": {},
   "outputs": [],
   "source": [
    "m = np.random.multivariate_normal(means, covs, 1000).T\n",
    "scipy.stats.pearsonr(m[0], m[1])"
   ]
  },
  {
   "cell_type": "code",
   "execution_count": null,
   "id": "e7b931bd-125c-4935-861c-acafd9996eed",
   "metadata": {},
   "outputs": [],
   "source": [
    "m = np.random.multivariate_normal(means, covs, 10000).T\n",
    "scipy.stats.pearsonr(m[0], m[1])"
   ]
  },
  {
   "cell_type": "markdown",
   "id": "b3d2ca2f-40ec-45cd-84fe-ca7c7eb31ef9",
   "metadata": {},
   "source": [
    "### CCA - Canonical-Correlation Analysis "
   ]
  },
  {
   "cell_type": "markdown",
   "id": "110e2c4e",
   "metadata": {},
   "source": [
    "    Copyright (C) 2019  Dorota Celinska-Kopczynska <dot at mimuw dot edu dot pl> Maciej Nasinski\n",
    "\n",
    "    This program is free software: you can redistribute it and/or modify\n",
    "    it under the terms of the GNU General Public License as published by\n",
    "    the Free Software Foundation, either version 3 of the License, or\n",
    "    (at your option) any later version.\n",
    "\n",
    "    This program is distributed in the hope that it will be useful,\n",
    "    but WITHOUT ANY WARRANTY; without even the implied warranty of\n",
    "    MERCHANTABILITY or FITNESS FOR A PARTICULAR PURPOSE.  See the\n",
    "    GNU General Public License for more details.\n",
    "\n",
    "    You should have received a copy of the GNU General Public License\n",
    "    along with this program.  If not, see <http://www.gnu.org/licenses/>.\n",
    "    \n"
   ]
  },
  {
   "cell_type": "markdown",
   "id": "761cecb6",
   "metadata": {
    "tags": []
   },
   "source": [
    "Do zobrazowania idei analizy kanonicznej przeprowadzimy analize analogiczna do Celinska, Olszewski [2013].\n",
    "\n",
    "Wykorzystamy baze danych \"zadowolenie.dta\" oparta na bazie z badania Diagnoza Spoleczna.  \n",
    "W badaniu wykorzystujemy jedynie obserwacje dotyczace glow gospodarstwa domowego\n",
    "\n",
    "|typ|zmienna | opis|\n",
    "|---|----------|---------|\n",
    "||numer_gd | do diagnostyki, nr gospodarstwa|\n",
    "|x|plec | plec respondenta (1 -- kobieta, 0 -- mezczyzna) |\n",
    "|x|wiek2011 | wiek w roku 2011  |\n",
    "|x|edukacja | wyksztalcenie respondenta  |\n",
    "|x|stanciv |stan cywilny  |\n",
    "|x|dochod | sredni (estymowany przez repondenta) dochod z ostatnich 3 miesiecy  |\n",
    "|x|zaufanie | czy respondent czuje sie kochany i darzony zaufaniem (1 -- tak, 0 -- nie)  |\n",
    "|x|dep_x | wskazniki z testu Becka dotyczace oznak depresji: wyglad, zapal do pracy, sen, meczenie sie, zdrowie  |\n",
    "|x|zaleznosc | kto ma wplyw na zycie respondenta (1 -- jestem kowalem swojego losu; 0 -- moje zycie zalezy od wladz, od innych ludzi, od losu opatrznosci)  |\n",
    "|x|kontakty | liczba kontaktow spolecznych miesiecznie  |\n",
    "|x|aktywnosc | liczba przypadkow aktywnosci spolecznej (wizyty w kinie, teatrze, na koncertach; restauracjach,ckawiarniach, pubach; spotkania towarzyskie)|\n",
    "|||\n",
    "|y|rodzina | zadowolenie ze stosunkow z rodzina  |\n",
    "|y|przyjaciele | zadowolenie ze stosunkow ze znajomymi  |\n",
    "|y|zdrowie | zadowolenie ze stanu zdrowia  |\n",
    "|y|sukces | zadowolenie z osiagniec zyciowych|\n",
    "\n",
    "Zbior zmiennych zaleznych: rodzina przyjaciele zdrowie sukces  \n",
    "Zbior zmiennych niezaleznych: plec wiek2011, edukacja, stanciv, dochod, zaufanie, dep_x, zaleznosc, kontakty, aktywnosc\n",
    "\n",
    "Zmienne dotyczace zadowolenia z zycia sa zakodowane w porzadku rosnacym -- im wieksza wartosc zmiennej tym dana osoba jest bardziej zadowolona z danej czesci swojego zycia"
   ]
  },
  {
   "cell_type": "markdown",
   "id": "75e800ff",
   "metadata": {},
   "source": [
    "### KROK 1 - podstawowe charakterystyki statystyczne i obejrzenie zbioru danych"
   ]
  },
  {
   "cell_type": "markdown",
   "id": "f6f934ca-3034-4032-b35c-8cc8c5063101",
   "metadata": {},
   "source": [
    "Tutaj powinnismy jak najwiecej eksperymentowac.   \n",
    "Pamietajcie tylko że do raportu wybieramy tylko kilka najważniejszych spostrzeżenń, inne można dodać do załącznika ale także z umiarem.  \n",
    "Należy zbadać rozkłady zmiennych oraz ich inne charakterystyki. Warto posłużyć sie także statystykami opisowymi.  \n",
    "Dla wszytskich zmiennych biorących udział w modelowaniu oczekujemy w miarę rozkład normalny.  \n",
    "Dokładniej nie musi to być precyzyjnie rozkład normalny jednak problematyczne dla modelowania sa wartości odstające.  \n",
    "Zmienne binarne mogą by dołączone do modelowania, należy zaznaczyć że ich nie będziemy normalizować.   "
   ]
  },
  {
   "cell_type": "code",
   "execution_count": null,
   "id": "f5fd9929-fc08-4b69-b126-d625ab9e2409",
   "metadata": {},
   "outputs": [],
   "source": [
    "# obserwacje brakujace\n",
    "zadowolenie.loc[zadowolenie.isnull().any(axis = 1), :]"
   ]
  },
  {
   "cell_type": "code",
   "execution_count": null,
   "id": "b936af56",
   "metadata": {},
   "outputs": [],
   "source": [
    "%%stata\n",
    "codebook rodzina przyjaciele zdrowie sukces"
   ]
  },
  {
   "cell_type": "code",
   "execution_count": null,
   "id": "c7528c1a-24dd-4750-afe8-5739967168d4",
   "metadata": {},
   "outputs": [],
   "source": [
    "zadowolenie.apply(lambda x: x if x.dtypes != \"category\" else x.cat.codes).describe().round(3).T"
   ]
  },
  {
   "cell_type": "code",
   "execution_count": null,
   "id": "22a371c9-6ba1-426c-a6da-a9cbacc31bec",
   "metadata": {},
   "outputs": [],
   "source": [
    "%%stata\n",
    "centile rodzina przyjaciele zdrowie sukces, level(50)\n",
    "sum rodzina  przyjaciele zdrowie sukces"
   ]
  },
  {
   "cell_type": "code",
   "execution_count": null,
   "id": "6c44f07c-e5bd-4798-b728-db882631694f",
   "metadata": {},
   "outputs": [],
   "source": [
    "%%stata\n",
    "hist rodzina, name(q)\n",
    "hist przyjaciele, name(er)\n",
    "hist zdrowie, name(t)\n",
    "hist sukces, name(qy)\n",
    "graph combine q er t qy\n",
    "graph drop q er t qy"
   ]
  },
  {
   "cell_type": "code",
   "execution_count": null,
   "id": "87febe44-e8cc-43ec-982c-dd1f48a56b2f",
   "metadata": {},
   "outputs": [],
   "source": [
    "zadowolenie[[\"rodzina\", \"przyjaciele\", \"zdrowie\", \"sukces\"]].apply(lambda x: x.cat.codes).hist()"
   ]
  },
  {
   "cell_type": "code",
   "execution_count": null,
   "id": "02af6d82-bc3a-4bff-9379-765c00613805",
   "metadata": {},
   "outputs": [],
   "source": [
    "%%stata\n",
    "centile wiek2011 dochod edukacja kontakty aktywnosc, level(50)\n",
    "sum wiek2011 dochod edukacja kontakty aktywnosc"
   ]
  },
  {
   "cell_type": "code",
   "execution_count": null,
   "id": "f6947100-a54d-4652-89cf-81ea2740718f",
   "metadata": {},
   "outputs": [],
   "source": [
    "%stata hist dochod, normal"
   ]
  },
  {
   "cell_type": "code",
   "execution_count": null,
   "id": "53a1b3ea-4478-4c9d-b7a2-f7a4ccfb6ef6",
   "metadata": {},
   "outputs": [],
   "source": [
    "%stata hist aktywnosc, normal"
   ]
  },
  {
   "cell_type": "code",
   "execution_count": null,
   "id": "48fe31f4-88ec-480f-ad73-e06cbe6ffd85",
   "metadata": {},
   "outputs": [],
   "source": [
    "%%stata\n",
    "graph pie, over(stanciv)"
   ]
  },
  {
   "cell_type": "code",
   "execution_count": null,
   "id": "e65dde7a-6cf6-4c97-be7d-cf3114a713b2",
   "metadata": {},
   "outputs": [],
   "source": [
    "zadowolenie.groupby([\"stanciv\"])[[\"stanciv\"]].count().plot.pie(y = \"stanciv\")"
   ]
  },
  {
   "cell_type": "code",
   "execution_count": null,
   "id": "5668efc0-0c4c-41e1-a831-ecd90c84bafd",
   "metadata": {},
   "outputs": [],
   "source": [
    "%%stata\n",
    "tabulate stanciv\n",
    "tab plec\n",
    "tab zaufanie"
   ]
  },
  {
   "cell_type": "code",
   "execution_count": null,
   "id": "297d2e38-a3c7-4459-9a75-788d10e7a1ec",
   "metadata": {},
   "outputs": [],
   "source": [
    "zadowolenie.plec.value_counts(),\\\n",
    "zadowolenie.edukacja.value_counts(),\\\n",
    "zadowolenie.stanciv.value_counts(),\\\n",
    "zadowolenie.rodzina.value_counts()"
   ]
  },
  {
   "cell_type": "markdown",
   "id": "8f4db959",
   "metadata": {},
   "source": [
    "### KROK 2 -- obejrzyjmy korelacje!"
   ]
  },
  {
   "cell_type": "markdown",
   "id": "8bb87333",
   "metadata": {},
   "source": [
    "Czym silniejsze korelacje pomiedzy dwoma wyroznionymi zbiorami zmiennych (y vs x) tym lepszy efekt da analiza kanoniczna.  \n",
    "Z drugiej strony korelacje na przestrzeni zbioru y oraz x (z osobna), powinny byc umiarkowane.\n",
    "\n",
    "Zmienne zalezne sa typowo porzadkowe, wiec uzywamy wspolczynnika kendala.  \n",
    "Korelacje pomiędzy zmiennymi zależnymi  "
   ]
  },
  {
   "cell_type": "code",
   "execution_count": null,
   "id": "2ea7b295",
   "metadata": {},
   "outputs": [],
   "source": [
    "%%stata\n",
    "ktau rodzina przyjaciele zdrowie sukces, stats(taub p)"
   ]
  },
  {
   "cell_type": "code",
   "execution_count": null,
   "id": "50fe80db-2d54-4d7d-87bc-e5959d1c663b",
   "metadata": {},
   "outputs": [],
   "source": [
    "# Macierz jest pusta bo metoda nie działa dla zmiennych typu category\n",
    "zadowolenie[[\"rodzina\", \"przyjaciele\", \"zdrowie\", \"sukces\"]].corr(method = \"kendall\").shape"
   ]
  },
  {
   "cell_type": "code",
   "execution_count": null,
   "id": "3541b897-10bb-4beb-83e2-c0559a94acc4",
   "metadata": {},
   "outputs": [],
   "source": [
    "# Transformacja zmiennych\n",
    "xmat = zadowolenie[[\"wiek2011\", \"edukacja\", \"stanciv\", \"dochod\", \"zaleznosc\", \"kontakty\", \"aktywnosc\", \"plec\", \"zaufanie\"]].\\\n",
    "apply(lambda x: x if x.dtypes != \"category\" else x.cat.codes)\n",
    "ymat = zadowolenie[[\"rodzina\", \"przyjaciele\", \"zdrowie\", \"sukces\"]].apply(lambda x: x.cat.codes)"
   ]
  },
  {
   "cell_type": "code",
   "execution_count": null,
   "id": "aa904651-e2b9-4832-a31d-1b424648f416",
   "metadata": {},
   "outputs": [],
   "source": [
    "ymat.corr(method = \"kendall\").round(3)"
   ]
  },
  {
   "cell_type": "markdown",
   "id": "f5315b89-15d3-4cbb-9344-453c6103544d",
   "metadata": {},
   "source": [
    "Zmienne nie wykazuja relatywnie bardzo silnej korelacji."
   ]
  },
  {
   "cell_type": "markdown",
   "id": "9ddb7d30",
   "metadata": {},
   "source": [
    "Korelacje pomiędzy zmiennymi niezaleznymi.  \n",
    "Nie cechowaly sie rozkladem normalnym, wiec dla bezpieczenstwa wykorzystamy korelacje spearman-a."
   ]
  },
  {
   "cell_type": "code",
   "execution_count": null,
   "id": "6d75f253",
   "metadata": {},
   "outputs": [],
   "source": [
    "%%stata\n",
    "spearman wiek2011 edukacja stanciv dochod zaleznosc kontakty aktywnosc plec zaufanie"
   ]
  },
  {
   "cell_type": "markdown",
   "id": "45cd3c8d-1000-453d-bbd0-ca5c035cf577",
   "metadata": {},
   "source": [
    "Najwyzsze korelacje - lata nauki a wiek, dochod a lata nauki - nie sa one dziwne, jednoczesnie nie przekraczaja 0.5.   \n",
    "Mozna przyjać, że w zbiorze zmiennych niezaleznych nie ma \"niebezpiecznie\" istotnych korelacji."
   ]
  },
  {
   "cell_type": "code",
   "execution_count": null,
   "id": "a6f36b82-97fe-4f47-8b6e-349aa3028405",
   "metadata": {},
   "outputs": [],
   "source": [
    "xmat.corr(method = \"spearman\").round(3)"
   ]
  },
  {
   "cell_type": "markdown",
   "id": "5db3dddd-b28a-41a8-80b8-d3f1cc994530",
   "metadata": {},
   "source": [
    "Korelacje pomiędzy zbiorami y oraz x"
   ]
  },
  {
   "cell_type": "code",
   "execution_count": null,
   "id": "8dfbc68b-6800-4501-99c3-6264dcf4650e",
   "metadata": {},
   "outputs": [],
   "source": [
    "corr_mat(ymat, xmat).round(3)"
   ]
  },
  {
   "cell_type": "markdown",
   "id": "72d1bbdd",
   "metadata": {},
   "source": [
    "### KROK 3 -- analiza kanoniczna"
   ]
  },
  {
   "cell_type": "markdown",
   "id": "1bd7441b",
   "metadata": {},
   "source": [
    "Przechodzimy do analizy pomiedzy zbiorem zmiennych zaleznych a zbiorem zmiennych\n",
    "niezaleznych - narzedzie: analiza kanoniczna.\n",
    "\n",
    "Narzędzia:\n",
    "- STATA: canon \n",
    "- PYTHON: statsmodels.multivariate.cancorr.CanCorr oraz sklearn.cross_decomposition.CCA\n",
    "\n",
    "Y - liczba zmiennych zaleznych: 4  \n",
    "X - liczba zmiennych niezaleznych: 14  \n",
    "\n",
    "Dla kazdego zbioru danych mogą zostać utworzone maksymalnie cztery zmienne kanoniczne.   \n",
    "Minimum z wyjsciowej liczby zmiennych w kazdym ze zbiorow zmiennych wyjsciowych - min(4, 14) = 4\n",
    "\n",
    "pierwszy zbior analizowanych zmiennych; bedziemy interpretowac go jako zbior zmiennych zaleznych  \n",
    "drugi zbior analizowanych zmiennych; bedziemy interpretowac go jako zbior zmiennych niezaleznych  \n",
    "\n",
    "STRANDARYZACJA jest bardzo ważnym krokiem procedury:\n",
    "- W STATA UZYWAM ZESTANDARYZOWANYCH WAG  -- opcja stdcoef   \n",
    "- W PYTHONIE STANDARYZUJEMY DANE WEJSCIOWE"
   ]
  },
  {
   "cell_type": "markdown",
   "id": "4278c02f-4b72-4b41-a065-bcc2691c24d1",
   "metadata": {},
   "source": [
    "#### 3.1 Diagnostyka -- ile par zmiennych kanonicznych wybrac?  Testy "
   ]
  },
  {
   "cell_type": "code",
   "execution_count": null,
   "id": "449c35f2-0df3-465f-aaea-31bee753f63a",
   "metadata": {},
   "outputs": [],
   "source": [
    "zadowolenie = zadowolenie.apply(lambda x: x.cat.codes if x.dtypes == \"category\" else x)"
   ]
  },
  {
   "cell_type": "markdown",
   "id": "89753bbe-5866-48f9-8f85-018d70b067c4",
   "metadata": {},
   "source": [
    "Model bez zmiennych binarnych, można porównać z modelem który je zawiera.  \n",
    "Wyniki nie wydają się bardzo różnić, zwłaszcza dla 2 pierwszych zmiennych kanonicznych."
   ]
  },
  {
   "cell_type": "code",
   "execution_count": null,
   "id": "c010dd57-3d05-430b-b7d3-1132368af262",
   "metadata": {},
   "outputs": [],
   "source": [
    "#%%stata\n",
    "#xi:canon (rodzina przyjaciele zdrowie sukces) (dep_wyglad dep_zapal dep_zdrowie dep_sen dep_meczenie wiek2011 kontakty aktywnosc edukacja dochod) , test(1 2 3 4) stdcoef"
   ]
  },
  {
   "cell_type": "markdown",
   "id": "fc07ff69-e9dd-4dba-9ad3-d02fb1081d48",
   "metadata": {},
   "source": [
    "Model ze zmiennymi binarnymi"
   ]
  },
  {
   "cell_type": "code",
   "execution_count": null,
   "id": "80809f9e",
   "metadata": {},
   "outputs": [],
   "source": [
    "%%stata\n",
    "xi:canon (rodzina przyjaciele zdrowie sukces) (dep_wyglad dep_zapal dep_zdrowie dep_sen dep_meczenie i.plec wiek2011 kontakty aktywnosc edukacja i.zaufanie i.zaleznosc i.stanciv dochod) , first(2) test(1 2 3 4) stdcoef"
   ]
  },
  {
   "cell_type": "markdown",
   "id": "5ad20626-4a16-44c0-8814-393c9c9c2d3f",
   "metadata": {},
   "source": [
    "---------------------------------------------"
   ]
  },
  {
   "cell_type": "markdown",
   "id": "c01f0787-1240-40d2-857e-9b94076564fb",
   "metadata": {},
   "source": [
    "Przygotowanie danych dla modelowania w pythonie"
   ]
  },
  {
   "cell_type": "code",
   "execution_count": null,
   "id": "213029d9-a14c-4406-a25e-b80f220c25be",
   "metadata": {},
   "outputs": [],
   "source": [
    "# rozbicie zmiennych typu category na zmienne binarne\n",
    "zadowolenie[[\"plec\", \"zaleznosc\", \"stanciv\", \"zaufanie\"]] = zadowolenie[[\"plec\", \"zaleznosc\", \"stanciv\", \"zaufanie\"]].astype(\"int\")\n",
    "zadowolenie_cols = pd.get_dummies(zadowolenie, columns = [\"plec\", \"zaleznosc\", \"stanciv\", \"zaufanie\"], drop_first=True)"
   ]
  },
  {
   "cell_type": "code",
   "execution_count": null,
   "id": "95164d98-24f4-4625-8033-0eaf081e7fb6",
   "metadata": {},
   "outputs": [],
   "source": [
    "# standaryzacja bez zmiennych binarnych\n",
    "norm_cols = [\"rodzina\", \"przyjaciele\", \"sukces\", \"zdrowie\"] + [\"wiek2011\", \"kontakty\", \"aktywnosc\", \"edukacja\", \"dochod\", \"dep_wyglad\", \"dep_zapal\", \"dep_zdrowie\", \"dep_sen\", \"dep_meczenie\"]\n",
    "zadowolenie_cols[norm_cols] = (zadowolenie_cols[norm_cols] - zadowolenie_cols[norm_cols].mean())/ zadowolenie_cols[norm_cols].std(ddof=1)"
   ]
  },
  {
   "cell_type": "code",
   "execution_count": null,
   "id": "5476912f-aa1d-438a-ae44-2b6183ea651f",
   "metadata": {},
   "outputs": [],
   "source": [
    "y_cols = [\"rodzina\", \"przyjaciele\", \"zdrowie\", \"sukces\"]\n",
    "x_cols = [\"dep_wyglad\", \"dep_zapal\", \"dep_zdrowie\", \"dep_sen\", \"dep_meczenie\", \"plec_1\", \"wiek2011\", \"kontakty\",\n",
    "            \"aktywnosc\", \"edukacja\", \"zaufanie_1\", \"zaleznosc_1\", \"stanciv_1\", \"stanciv_2\", \"stanciv_3\", \"stanciv_4\", \"dochod\"]\n",
    "y_mat = zadowolenie_cols[y_cols]\n",
    "x_mat = zadowolenie_cols[x_cols]"
   ]
  },
  {
   "cell_type": "markdown",
   "id": "65131073-006e-4ec4-a732-417d874b290d",
   "metadata": {},
   "source": [
    "------------------------"
   ]
  },
  {
   "cell_type": "markdown",
   "id": "0cc8a84d-6da1-4c07-bbfe-59304d735ee1",
   "metadata": {},
   "source": [
    "#### Walidacja ilościowa modelu. - wykorzystana tylko w pythonie. \n",
    "Do tego celu wykorzystamy Cross-validacje oraz przeszukanie siatki.  \n",
    "Warto zwrócić uwagę że próbę dzielimy na uczącą (train) oraz testową, dzięki temu możemy otrzymać wiarygodną ocene dla wybranego modelu."
   ]
  },
  {
   "cell_type": "code",
   "execution_count": null,
   "id": "fe5902a3-f7f8-4c2b-9002-c242a91d0867",
   "metadata": {},
   "outputs": [],
   "source": [
    "X_train, X_test, y_train, y_test = train_test_split(x_mat, y_mat, test_size=0.25, random_state=0)\n",
    "\n",
    "cca = CCA(copy=True, scale = False)\n",
    "\n",
    "param_grid = {\n",
    "    'n_components': [1, 2, 3, 4]\n",
    "}\n",
    "\n",
    "search = GridSearchCV(cca, param_grid, n_jobs=-1, )\n",
    "search.fit(X_train, y_train)\n",
    "print(\"Best parameter (CV score={}):\".format(search.best_score_))\n",
    "print(search.best_params_)\n",
    "\n",
    "search.score(X_test, y_test)"
   ]
  },
  {
   "cell_type": "markdown",
   "id": "5f490809-367c-4218-92b2-5d5b4702a92a",
   "metadata": {},
   "source": [
    "Brzytwa Ockhama - i tym razem prostszy model okazuje się znacznie lepszy pod względem predykcyjnym.  \n",
    "Model predykcyjny biorący pod uwagę 2 zmienne kanoniczne ma x3 większe R2 od modelu z 4 zmiennymi."
   ]
  },
  {
   "cell_type": "code",
   "execution_count": null,
   "id": "9812d3d6-6963-4f18-a6fe-7de8248035d9",
   "metadata": {},
   "outputs": [],
   "source": [
    "# Wszytskie wyniki\n",
    "# search.cv_results_"
   ]
  },
  {
   "cell_type": "markdown",
   "id": "6abb5e57-08e8-4efb-8f81-97ee2b0c7550",
   "metadata": {},
   "source": [
    "#### Estymacja Modelu"
   ]
  },
  {
   "cell_type": "code",
   "execution_count": null,
   "id": "bd984f46-f665-4c6b-99af-703485010241",
   "metadata": {},
   "outputs": [],
   "source": [
    "#statsmodels\n",
    "# https://devdocs.io/statsmodels/generated/statsmodels.multivariate.cancorr.cancorr\n",
    "res = CanCorr(y_mat, x_mat)\n",
    "# or sklearn\n",
    "# https://scikit-learn.org/stable/modules/cross_decomposition.html#cross-decomposition\n",
    "my_cca = CCA(n_components=2, copy = True, max_iter = 100, scale = False)\n",
    "my_cca.fit(x_mat, y_mat)\n",
    "# different vars order"
   ]
  },
  {
   "cell_type": "code",
   "execution_count": null,
   "id": "0d0b58fd-be7f-476f-9969-5e10195943b1",
   "metadata": {},
   "outputs": [],
   "source": [
    "# Predykcja\n",
    "# Y = X * coef\n",
    "# coef = np.dot(my_cca.x_rotations_, my_cca.y_loadings_.T)\n",
    "# my_cca.coef_\n",
    "# predicitng y with x and coefs\n",
    "# y_mat, (np.matmul(x_mat, my_cca.coef_))"
   ]
  },
  {
   "cell_type": "markdown",
   "id": "538222c7-3a9d-41b9-9d2a-3829bb4f04f7",
   "metadata": {},
   "source": [
    "Zmienne Kanoniczne"
   ]
  },
  {
   "cell_type": "code",
   "execution_count": null,
   "id": "dd4841ff-66ed-4b7e-b148-9f625e62a038",
   "metadata": {},
   "outputs": [],
   "source": [
    "x_scores, y_scores = my_cca.transform(x_mat, y_mat)"
   ]
  },
  {
   "cell_type": "code",
   "execution_count": null,
   "id": "e7aa4f1a-6bfa-46c3-9f13-d6a0ae65fa7f",
   "metadata": {},
   "outputs": [],
   "source": [
    "# reproduce x with scores and loadings\n",
    "# pierwsza obserwacja\n",
    "# pd.DataFrame({\"x_r\": np.matmul(x_scores, my_cca.x_loadings_.T)[:1,:].ravel(), \"x\": StandardScaler().fit_transform(x_mat)[:1,:].ravel()})"
   ]
  },
  {
   "cell_type": "code",
   "execution_count": null,
   "id": "c0d27739-b591-48b9-9173-f8739a94649b",
   "metadata": {},
   "outputs": [],
   "source": [
    "# get scores\n",
    "# np.matmul(y_mat, my_cca.y_rotations_), y_scores\n",
    "# and only approximate for this case\n",
    "# np.matmul(x_mat, my_cca.x_rotations_), x_scores"
   ]
  },
  {
   "cell_type": "code",
   "execution_count": null,
   "id": "48ff2a73-74a0-4a82-9db0-30272dbb4a2e",
   "metadata": {},
   "outputs": [],
   "source": [
    "res.cancorr, np.diag(corr_mat(x_scores, y_scores))"
   ]
  },
  {
   "cell_type": "markdown",
   "id": "48e955ef-3f11-492f-943c-e02eeffd5702",
   "metadata": {},
   "source": [
    "Wagi - orginalne = zmienne kanoniczne * wagi"
   ]
  },
  {
   "cell_type": "code",
   "execution_count": null,
   "id": "d8d775d6-fb41-4834-9781-f174bbd5e771",
   "metadata": {},
   "outputs": [],
   "source": [
    "y_coef = pd.DataFrame(res.y_cancoef * 100)\n",
    "y_coef.index = y_mat.columns\n",
    "x_coef = pd.DataFrame(res.x_cancoef * 100)\n",
    "x_coef.index = x_mat.columns\n",
    "y_coef.round(4), x_coef.round(4)"
   ]
  },
  {
   "cell_type": "raw",
   "id": "b1ed01c2-94f4-4aa8-970b-1871fe91431c",
   "metadata": {},
   "source": [
    "Rotacje to inaczej wspolczynniki/wagi.  \n",
    "Prosze zwrocic uwage na odmienne zwroty dla wektorów.  \n",
    "Mamy też małe różnice które pochodzą z optymalizacji modelu."
   ]
  },
  {
   "cell_type": "code",
   "execution_count": null,
   "id": "52010928-8aa3-42e3-90b6-f93330955c35",
   "metadata": {},
   "outputs": [],
   "source": [
    "np.round(my_cca.y_rotations_, 4) , np.round(my_cca.x_rotations_, 4)"
   ]
  },
  {
   "cell_type": "code",
   "execution_count": null,
   "id": "a74c4bb2-8cb6-4832-83dc-e0af295f436c",
   "metadata": {},
   "outputs": [],
   "source": [
    "res.corr_test().summary()"
   ]
  },
  {
   "cell_type": "markdown",
   "id": "47c6a6f8-2096-477c-aeed-7c0b31263681",
   "metadata": {},
   "source": [
    "----------------"
   ]
  },
  {
   "cell_type": "markdown",
   "id": "d6d2e48a",
   "metadata": {},
   "source": [
    "Testowanie istotnosci koreacji kanonicznych.\n",
    "Najpierw testowana jest H0, ze oba wsp. korelacji kanonicznych sa nieistotne\n",
    "wobec alternatywy, ze przynajmniej pierwsza para zmiennych kanonicznych jest istotna\n",
    "- st. testowa = 121.64 i p-value < .0001.\n",
    "Odrzucamy H0 -\n",
    "czyli pierwsza korelacja kanoniczna jest istotnie rozna od zera.\n",
    "\n",
    "Nastepnie testowana jest istotnosc drugiego wsp. korelacji kanonicznej - st. testowa = 51.20\n",
    "i p-value < .0001. Odrzucamy H0 - czyli druga korelacja kanoniczna jest rowniez\n",
    "istotnie rozna od zera.\n",
    "\n",
    "Nastepnie testowana jest istotnosc trzeciego wsp. korelacji kanonicznej - st. testowa = 22.21\n",
    "i p-value < .0001. Odrzucamy H0 - czyli trzecia korelacja kanoniczna jest rowniez\n",
    "istotnie rozna od zera.\n",
    "\n",
    "Nastepnie testowana\n",
    "jest istotnosc czwartego wsp. korelacji kanonicznej - st. testowa = 19.23\n",
    "i p-value < .0001. Odrzucamy H0 - czyli czwarta korelacja kanoniczna jest rowniez\n",
    "istotnie rozna od zera.\n",
    "\n",
    "Wniosek: wszystkie wsp. korelacji kanonicznej sa istotnie rozne od zera.\n",
    "\n",
    "Omowiona procedura moze byc wazna wskazowka w przypadku analiz na wiekszych\n",
    "zbiorach danych i wyboru najwazniejszych (istotnych) zmiennych kanonicznych\n",
    "do dalszej analizy.  \n",
    "Test wskazuje na ktorym etapie mozna przyjac, ze pozostale\n",
    "(najmniejsze) wsp. korelacji kanonicznej sa nieistotnie rozne od zera."
   ]
  },
  {
   "cell_type": "markdown",
   "id": "27130b2a-8da9-4d86-b5ed-9c39f63eb407",
   "metadata": {},
   "source": [
    "--------------------------"
   ]
  },
  {
   "cell_type": "markdown",
   "id": "2fd26263",
   "metadata": {},
   "source": [
    "#### 3.2 Wspolczynniki korelacji kanonicznej\n",
    "I wsp korelacj kanonicznej = 0.6652. Jest to najwiekszy mozliwy do osiagniecia\n",
    "wsp. korelacji miedzy liniowymi kombinacjami zmiennych z obu zbiorow. Wielkosc ta jest\n",
    "wieksza niz kazdy wsp. korelacji miedzy zmienna ze zbioru X, a zmienna ze zbioru\n",
    "Y.\n",
    "\n",
    "#### 3.3. Wagi kanonicze - pokazuja wklad poszczegolnych zmiennych do zmiennych kanonicznych.\n",
    "Poniewaz wyjsciowe zmienne sa mierzone na roznych skalach oraz maja rozna wariancje\n",
    "nalezy interpretowac \"standaryzowane wagi kanoniczne\"\n",
    "\n",
    "Ze wzgledu na operowanie wystandaryzowanymi wartosciami zmiennych wejsciowych odpowiadaja one wspolczynnikom\n",
    "beta w regresji wielorakiej.\n",
    "Czym wieksza wartosc bezwzgledna wagi danej zmiennej wejsciowej tym wiekszy jej wklad do danej zmiennej kanonicznej\n",
    "\n",
    "#### 3.4. Standaryzowane wagi kanoniczne - wagi kanoniczne przemnozone przez odchylenia\n",
    "standardowe wyjsciowych zmiennych. Wspolczynniki te sa wykorzystywane do interpretacji\n",
    "uzyskanych liniowych kombinacji (zmiennych kanonicznych)."
   ]
  },
  {
   "cell_type": "code",
   "execution_count": null,
   "id": "bcddd072-7da2-41a6-9983-baa68fd4583c",
   "metadata": {},
   "outputs": [],
   "source": [
    "scores_corr_X_yscores = corr_mat(x_mat, y_scores)\n",
    "scores_corr_X_xscores = corr_mat(x_mat, x_scores)\n",
    "scores_corr_Y_xscores = corr_mat(y_mat, x_scores)\n",
    "scores_corr_Y_yscores = corr_mat(y_mat, y_scores)"
   ]
  },
  {
   "cell_type": "code",
   "execution_count": null,
   "id": "e4ab2936-61f6-40be-9411-00e7742056c6",
   "metadata": {},
   "outputs": [],
   "source": [
    "#%%stata\n",
    "#estat correlations"
   ]
  },
  {
   "cell_type": "markdown",
   "id": "de9bd018",
   "metadata": {},
   "source": [
    "#### 3.5. INTERPRETACJA\n",
    "\n",
    "X_WEIGHTS = X_scores vs X - X_scores =  X * X_WEIGHTS  \n",
    "Y_WEIGHTS = Y_scores vs Y - Y_scores = Y * Y_WEIGHTS\n",
    "\n",
    "Wybor jest subiektywny -- wybieramy kilka zmiennych o najwyzszych co do wartosci bezwglednej wartosciach wspolczynnikow\n",
    "\n",
    "Pierwsza zmienna kanoniczna -- postrzeganie zdrowia (bo f63_4 wysokie)\n",
    "zdrowie -- osoby lepiej oceniajace swoje zdrowie sa bardziej zadowolone ze swojego stanu zdrowia (0.49)\n",
    "zmeczenie -- osoby mniej odczuwajace zmeczenie sa bardziej zadowolone ze swojego stanu zdrowia (0.24)\n",
    "zapal do pracy -- osoby majace nie mniej zapalu do pracy niz dawniej sa bardziej zadowolone ze swojego stanu zdrowia (0.17)\n",
    "zaufanie -- poczucie ze mozna komus zaufac wplywa pozytywnie na poziom zadowolenia (0.13)\n",
    "wyglad -- lepsza ocena swojego wygladu wiaze sie z wiekszym zadowoleniem  (0.12)\n",
    "\n",
    "Druga zmienna kanoniczna -- zadowolenie z zycia rodzinnego (0.60), swoich sukcesow (0.60) i niezadowolenie ze stanu zdrowia (-0.61)\n",
    "bycie kochanym -- osoby czujace sie bardziej kochane sa bardziej zadowolone z zycia rodzinnego ,etc(0.60)\n",
    "wiek --  osoby starsze sa bardziej zadowolone z zycia rodzinnego ale mniej ze stanu zdrowia (0.58)\n",
    "zdrowie -- wieksze martwienie sie o zdrowie to mniejsza satysfakcja z niego (-0.34)\n",
    "wyglad -- lepsze zdanie o swoim wygladzie wiaze sie z wyzszymi wartosciami 2 zmiennej (0.26)\n",
    "kontakty -- wieksza liczba kontaktow spolecznych wiaze sie z wyzszymi wartosciami 2 zmiennej (0.22)\n",
    "\n",
    "Tutaj moglismy miec artefakt wplywu wieku, jesli spojrzymy na wplyw stanu cywilnego!"
   ]
  },
  {
   "cell_type": "markdown",
   "id": "05720b6a-c40c-4221-9db1-ec10b4a8772f",
   "metadata": {},
   "source": [
    "#### 3.6. LOADINGS\n",
    "\n",
    "X_LOADINGS = X vs X_scores  - X = X_scores * X_LOADINGS  \n",
    "Y_LOADINGS = Y vs Y_scores  - Y = Y_scores * Y_LOADINGS\n",
    "\n",
    "Interpretowanie standaryzowanych wag kanonicznych moze byc utrudnione, jezeli\n",
    "w ktoryms ze zbiorow wyjsciowych zmienych sa zmienne bardzo silnie ze soba skorelowane\n",
    "(w kontekscie naszego zbioru danych tak nie jest). Np. jezeli w zbiorze X-ow sa\n",
    "dwie zmienne silnie dodatnio ze soba skorelowane oraz kazda z tych zmiennych jest silnie\n",
    "dodatnio skorelowana ze zmienna kanoniczna, to moze zdarzyc sie, iz korelacje miedzy\n",
    "tymi X-ami a zmienna kanoniczna sa dodatnie, natomiast jedna ze standaryzowanych wag\n",
    "kanonicznych jest dodatnia a druga ujemna. Wowczas zaleca sie intepretowac korelacje\n",
    "miedzy zmiennymi wyjsciowymi a zmiennymi kanonicznymi."
   ]
  },
  {
   "cell_type": "code",
   "execution_count": null,
   "id": "8347df5f",
   "metadata": {},
   "outputs": [],
   "source": [
    "%%stata \n",
    "/* 3.6 Ladunki kanoniczne*/\n",
    "estat loadings"
   ]
  },
  {
   "cell_type": "code",
   "execution_count": null,
   "id": "c681a4d1-2337-4f55-91df-e14f781dc7b4",
   "metadata": {},
   "outputs": [],
   "source": [
    "x_loadings = pd.DataFrame(my_cca.x_loadings_)\n",
    "x_loadings.index = x_mat.columns\n",
    "y_loadings = pd.DataFrame(my_cca.y_loadings_)\n",
    "y_loadings.index = y_mat.columns\n",
    "y_loadings.round(4), x_loadings.round(4)"
   ]
  },
  {
   "cell_type": "markdown",
   "id": "8dd5c610",
   "metadata": {},
   "source": [
    "### 3.7 Redundancja i wariancja wyodrebniona\n",
    "\n",
    "**Redundancja bardzo podobna do dobrze nam znanego R2 z regresji liniowej**\n",
    "\n",
    "Interpretacja dla zmiennych niezaleznych.\n",
    "Wariancja wyodrebniona: dla kazdej zmiennej kanonicznej obliczamy srednia z kwadratow\n",
    "wsp. korelacji miedzy ta zmienna kanoniczna a zmiennymi z odpowiadajacego jej zbioru\n",
    "zmiennych.\n",
    "\n",
    "Redundacja: iloczyn kwadratu korelacji kanonicznej i wariancji wyodrebnionej:\n",
    "\n",
    "Redundacja mowi nam ile przecietnie wariancji w jednym zbiorze jest wyjasnione przez dana\n",
    "zmienna kanoniczna  przy danym innym zbiorze zmiennych. Wartosc redundacji calkowitej\n",
    "moze byc wazna analityczna informacja o naszym modelu. Mowi o procencie calkowitej\n",
    "wariancji jednego zbioru wyjasniona w ramach modelu. Moze byc pomocna w ocenie, czy\n",
    "poprzez dolaczenie nowych zmiennych, uzyskamy wiekszy zakres wyjasnienia niz poprzednio.\n"
   ]
  },
  {
   "cell_type": "markdown",
   "id": "6fbb67ad-b883-4d10-ba9c-48f044cca090",
   "metadata": {},
   "source": [
    "#### Instalacja pakietu STATA canred"
   ]
  },
  {
   "cell_type": "code",
   "execution_count": null,
   "id": "4c7498d9",
   "metadata": {},
   "outputs": [],
   "source": [
    "%stata search canred"
   ]
  },
  {
   "cell_type": "code",
   "execution_count": null,
   "id": "df7622a0",
   "metadata": {},
   "outputs": [],
   "source": [
    "# FROM STATA GUI \n",
    "# search canred\n",
    "# https://stats.idre.ucla.edu/stata/ado/analysis/"
   ]
  },
  {
   "cell_type": "code",
   "execution_count": null,
   "id": "6cd04556",
   "metadata": {},
   "outputs": [],
   "source": [
    "# %stata ssc install canred\n",
    "# could fail"
   ]
  },
  {
   "cell_type": "code",
   "execution_count": null,
   "id": "7f45a5d3",
   "metadata": {},
   "outputs": [],
   "source": [
    "%stata sysdir"
   ]
  },
  {
   "cell_type": "code",
   "execution_count": null,
   "id": "8a7fa3f1",
   "metadata": {},
   "outputs": [],
   "source": [
    "# %stata mkdir \"/Users/maciejnasinski/Library/Application Support/Stata/ado/plus\", public"
   ]
  },
  {
   "cell_type": "code",
   "execution_count": null,
   "id": "f709f886",
   "metadata": {},
   "outputs": [],
   "source": [
    "# %%stata\n",
    "# copy /Users/maciejnasinski/Documents/AW/materialy/zajecia04/canred/canred.ado `\"`c(sysdir_plus)'canred.ado\"', public replace\n",
    "# discard // you have to discard to see installed adofiles\n",
    "# which canred"
   ]
  },
  {
   "cell_type": "code",
   "execution_count": null,
   "id": "328fe1ca",
   "metadata": {},
   "outputs": [],
   "source": [
    "%%stata\n",
    "canred 1\n",
    "/* 1 zmienna kanoniczna wyjasnia przecietnie 38.7% zmiennosci w zbiorze Y w oparciu o X\n",
    "   Redundancja wynosi 17%*/\n",
    "\n",
    "canred 2\n",
    "\n",
    "/* 2 zmienna kanoniczna wyjasnia przecietnie 28% zmiennosci w zbiorze Y w oparciu o X\n",
    "   Redundancja wynosi 5% */"
   ]
  },
  {
   "cell_type": "code",
   "execution_count": null,
   "id": "15f894ff-d337-44ee-8a19-2a0742664ab6",
   "metadata": {},
   "outputs": [],
   "source": [
    "REDUNT(x_mat, y_mat, res.cancorr, scores_corr_Y_xscores, scores_corr_X_yscores)"
   ]
  },
  {
   "cell_type": "code",
   "execution_count": null,
   "id": "7edf7b2c-cbc8-4ec9-b972-337dec84ef61",
   "metadata": {},
   "outputs": [],
   "source": [
    "(red0 := np.sum(np.power(scores_corr_Y_xscores.iloc[:,0], 2))/4,  red0/(res.cancorr[0])**2),\\\n",
    "(red1 := np.sum(np.power(scores_corr_Y_xscores.iloc[:,1], 2))/4, red1/(res.cancorr[1])**2)"
   ]
  },
  {
   "cell_type": "markdown",
   "id": "f93c0661",
   "metadata": {},
   "source": [
    "### KROK 4 - diagnostyka modelu"
   ]
  },
  {
   "cell_type": "code",
   "execution_count": null,
   "id": "3a8db692",
   "metadata": {},
   "outputs": [],
   "source": [
    "%%stata\n",
    "/*obserwacje odstajace zapisujemy poszczegolne zmienne kanoniczne */\n",
    "  \n",
    "predict u1, u corr(1)\n",
    "predict u2, u corr(2)\n",
    "predict v1, v corr(1)\n",
    "predict v2, v corr(2)\n",
    "\n",
    "/* Sprawdzamy, czy rzeczywiscie korelacje miedzy zmiennymi kanonicznymi w obrebie jednego\n",
    "zbioru zmiennych wyjsciowych wynosza 0.*/\n",
    "correlate u1 u2 v1 v2"
   ]
  },
  {
   "cell_type": "code",
   "execution_count": null,
   "id": "3307fba1-5364-4425-ba84-b6fa37beeb40",
   "metadata": {},
   "outputs": [],
   "source": [
    "np.round(pd.concat([pd.DataFrame(x_scores), pd.DataFrame(y_scores)], axis = 1).corr(), 3)"
   ]
  },
  {
   "cell_type": "markdown",
   "id": "1d86b132",
   "metadata": {},
   "source": [
    "szukamy outlierow rysujemy wykresy par zmiennych kanonicznych jako etykiet uzywamy numeru gospodarstwa"
   ]
  },
  {
   "cell_type": "code",
   "execution_count": null,
   "id": "b4f8258b",
   "metadata": {},
   "outputs": [],
   "source": [
    "%%stata\n",
    "scatter u1 v1, mlabel(numer_gd) "
   ]
  },
  {
   "cell_type": "code",
   "execution_count": null,
   "id": "fe34ee7a-5dff-47f5-9ed8-3adbf7f6a95d",
   "metadata": {},
   "outputs": [],
   "source": [
    "%%stata\n",
    "scatter u2 v2, mlabel(numer_gd) "
   ]
  },
  {
   "cell_type": "code",
   "execution_count": null,
   "id": "7ed11fab-8634-45c7-8c75-2b60bcef6877",
   "metadata": {},
   "outputs": [],
   "source": [
    "#%%stata\n",
    "#scatter u3 v3, mlabel(numer_gd)"
   ]
  },
  {
   "cell_type": "code",
   "execution_count": null,
   "id": "f76ca87f-8c75-4b92-96ec-e1c6c1f60e3b",
   "metadata": {},
   "outputs": [],
   "source": [
    "#%%stata\n",
    "#scatter u4 v4, mlabel(numer_gd)"
   ]
  },
  {
   "cell_type": "markdown",
   "id": "f3e1bb81-f54f-473c-a53b-3892d83fcc4a",
   "metadata": {},
   "source": [
    "### Les Misérables"
   ]
  },
  {
   "cell_type": "code",
   "execution_count": null,
   "id": "c4e114a4-c2b1-4cff-9637-dab74f9fc4a1",
   "metadata": {},
   "outputs": [],
   "source": [
    "%%stata\n",
    "/* zobaczmy co z nim nie tak */\n",
    "list  wiek2011 edukacja dochod zaleznosc kontakty aktywnosc rodzina przyjaciele zdrowie sukces plec zaufanie if numer_gd==9095\n",
    "/* nie jest specjalnie dziwna obserwacja\n",
    "   w zasadzie mamy tutaj chmurki w kazdym wykresie, wiec nie wyrozniaja sie specjalnie oberwacje odstajace*/"
   ]
  },
  {
   "cell_type": "code",
   "execution_count": null,
   "id": "f3719954-63f8-46a3-b45a-311672872f43",
   "metadata": {},
   "outputs": [],
   "source": [
    "pd.DataFrame({\"y1\": y_scores[:,0], \"x1\": x_scores[:,0]}).plot(x = 'x1', y = 'y1', kind = \"scatter\", use_index = True)"
   ]
  },
  {
   "cell_type": "code",
   "execution_count": null,
   "id": "6c6f48f6-a097-43cb-a9ac-becc25e1975d",
   "metadata": {},
   "outputs": [],
   "source": [
    "y = y_scores[:, 0]\n",
    "x = x_scores[:, 0]\n",
    "l = list(range(y_scores.shape[0]))\n",
    "\n",
    "fig, ax = plt.subplots()\n",
    "ax.scatter(x, y)\n",
    "\n",
    "for i, txt in enumerate(l):\n",
    "    ax.text(x[i], y[i], txt)"
   ]
  },
  {
   "cell_type": "code",
   "execution_count": null,
   "id": "6f8908ff-9ecb-4b80-9a3e-dbaf10a07a03",
   "metadata": {},
   "outputs": [],
   "source": [
    "zadowolenie.iloc[883,:]"
   ]
  },
  {
   "cell_type": "code",
   "execution_count": null,
   "id": "6edf2dcc-83a4-4c65-9ca8-27f799baa5ee",
   "metadata": {},
   "outputs": [],
   "source": []
  }
 ],
 "metadata": {
  "kernelspec": {
   "display_name": "Python 3 (ipykernel)",
   "language": "python",
   "name": "python3"
  },
  "language_info": {
   "codemirror_mode": {
    "name": "ipython",
    "version": 3
   },
   "file_extension": ".py",
   "mimetype": "text/x-python",
   "name": "python",
   "nbconvert_exporter": "python",
   "pygments_lexer": "ipython3",
   "version": "3.8.11"
  }
 },
 "nbformat": 4,
 "nbformat_minor": 5
}
